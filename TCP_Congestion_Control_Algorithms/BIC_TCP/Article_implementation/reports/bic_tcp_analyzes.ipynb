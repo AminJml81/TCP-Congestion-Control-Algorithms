{
 "cells": [
  {
   "cell_type": "markdown",
   "id": "597231d7",
   "metadata": {},
   "source": [
    "# BIC TCP Simulation Analyzes"
   ]
  },
  {
   "cell_type": "markdown",
   "id": "8241c3ef",
   "metadata": {},
   "source": [
    "Two simulations were done. \n",
    "- in the first simulation everything was normal.\n",
    "- in the second simulation there was more packet loss.\n",
    "\n",
    "Threading was used to simulate packet loss which waits for random number and then it enters fast recovery mode.\n"
   ]
  },
  {
   "cell_type": "markdown",
   "id": "0a3eb764",
   "metadata": {},
   "source": [
    "### importing necessary libraries"
   ]
  },
  {
   "cell_type": "code",
   "execution_count": 1,
   "id": "42edbfc6",
   "metadata": {},
   "outputs": [],
   "source": [
    "import matplotlib.pyplot as plt\n",
    "import pandas as pd"
   ]
  },
  {
   "cell_type": "markdown",
   "id": "5a037042",
   "metadata": {},
   "source": [
    "### Reading Data"
   ]
  },
  {
   "cell_type": "code",
   "execution_count": 2,
   "id": "74620ac7",
   "metadata": {},
   "outputs": [],
   "source": [
    "df11 = pd.read_csv('bic_tcp_parameters1.csv')\n",
    "\n",
    "df12 = pd.read_csv('log1.log', delimiter='--', engine='python', names=['round', 'message'])\n",
    "df12['round'] = df12['round'].astype(int)\n",
    "df12['message'] = df12['message'].astype(str).apply(str.strip)"
   ]
  },
  {
   "cell_type": "code",
   "execution_count": 3,
   "id": "ba9dbaea",
   "metadata": {},
   "outputs": [
    {
     "data": {
      "text/html": [
       "<div>\n",
       "<style scoped>\n",
       "    .dataframe tbody tr th:only-of-type {\n",
       "        vertical-align: middle;\n",
       "    }\n",
       "\n",
       "    .dataframe tbody tr th {\n",
       "        vertical-align: top;\n",
       "    }\n",
       "\n",
       "    .dataframe thead th {\n",
       "        text-align: right;\n",
       "    }\n",
       "</style>\n",
       "<table border=\"1\" class=\"dataframe\">\n",
       "  <thead>\n",
       "    <tr style=\"text-align: right;\">\n",
       "      <th></th>\n",
       "      <th>round</th>\n",
       "      <th>cwnd</th>\n",
       "      <th>wmax</th>\n",
       "      <th>wmin</th>\n",
       "    </tr>\n",
       "  </thead>\n",
       "  <tbody>\n",
       "    <tr>\n",
       "      <th>0</th>\n",
       "      <td>1.0</td>\n",
       "      <td>10.500000</td>\n",
       "      <td>30.000000</td>\n",
       "      <td>5.0</td>\n",
       "    </tr>\n",
       "    <tr>\n",
       "      <th>1</th>\n",
       "      <td>2.0</td>\n",
       "      <td>9.604167</td>\n",
       "      <td>10.290179</td>\n",
       "      <td>5.0</td>\n",
       "    </tr>\n",
       "    <tr>\n",
       "      <th>2</th>\n",
       "      <td>3.0</td>\n",
       "      <td>9.708288</td>\n",
       "      <td>10.290179</td>\n",
       "      <td>5.0</td>\n",
       "    </tr>\n",
       "    <tr>\n",
       "      <th>3</th>\n",
       "      <td>4.0</td>\n",
       "      <td>9.811293</td>\n",
       "      <td>10.290179</td>\n",
       "      <td>5.0</td>\n",
       "    </tr>\n",
       "    <tr>\n",
       "      <th>4</th>\n",
       "      <td>5.0</td>\n",
       "      <td>9.913216</td>\n",
       "      <td>10.290179</td>\n",
       "      <td>5.0</td>\n",
       "    </tr>\n",
       "  </tbody>\n",
       "</table>\n",
       "</div>"
      ],
      "text/plain": [
       "   round       cwnd       wmax  wmin\n",
       "0    1.0  10.500000  30.000000   5.0\n",
       "1    2.0   9.604167  10.290179   5.0\n",
       "2    3.0   9.708288  10.290179   5.0\n",
       "3    4.0   9.811293  10.290179   5.0\n",
       "4    5.0   9.913216  10.290179   5.0"
      ]
     },
     "execution_count": 3,
     "metadata": {},
     "output_type": "execute_result"
    }
   ],
   "source": [
    "df11.head()"
   ]
  },
  {
   "cell_type": "code",
   "execution_count": 4,
   "id": "9390e2e2",
   "metadata": {},
   "outputs": [
    {
     "data": {
      "text/html": [
       "<div>\n",
       "<style scoped>\n",
       "    .dataframe tbody tr th:only-of-type {\n",
       "        vertical-align: middle;\n",
       "    }\n",
       "\n",
       "    .dataframe tbody tr th {\n",
       "        vertical-align: top;\n",
       "    }\n",
       "\n",
       "    .dataframe thead th {\n",
       "        text-align: right;\n",
       "    }\n",
       "</style>\n",
       "<table border=\"1\" class=\"dataframe\">\n",
       "  <thead>\n",
       "    <tr style=\"text-align: right;\">\n",
       "      <th></th>\n",
       "      <th>round</th>\n",
       "      <th>message</th>\n",
       "    </tr>\n",
       "  </thead>\n",
       "  <tbody>\n",
       "    <tr>\n",
       "      <th>0</th>\n",
       "      <td>1</td>\n",
       "      <td>cwnd(10) &lt; wmax(30)</td>\n",
       "    </tr>\n",
       "    <tr>\n",
       "      <th>1</th>\n",
       "      <td>1</td>\n",
       "      <td>bic increase(10.0) &gt; Smax(5)</td>\n",
       "    </tr>\n",
       "    <tr>\n",
       "      <th>2</th>\n",
       "      <td>1</td>\n",
       "      <td>cwnd = 10.5</td>\n",
       "    </tr>\n",
       "    <tr>\n",
       "      <th>3</th>\n",
       "      <td>2</td>\n",
       "      <td>cwnd(10.5) &lt; wmax(30)</td>\n",
       "    </tr>\n",
       "    <tr>\n",
       "      <th>4</th>\n",
       "      <td>2</td>\n",
       "      <td>bic increase(9.75) &gt; Smax(5)</td>\n",
       "    </tr>\n",
       "  </tbody>\n",
       "</table>\n",
       "</div>"
      ],
      "text/plain": [
       "   round                       message\n",
       "0      1           cwnd(10) < wmax(30)\n",
       "1      1  bic increase(10.0) > Smax(5)\n",
       "2      1                   cwnd = 10.5\n",
       "3      2         cwnd(10.5) < wmax(30)\n",
       "4      2  bic increase(9.75) > Smax(5)"
      ]
     },
     "execution_count": 4,
     "metadata": {},
     "output_type": "execute_result"
    }
   ],
   "source": [
    "df12.head()"
   ]
  },
  {
   "cell_type": "code",
   "execution_count": 5,
   "id": "bd12e460",
   "metadata": {},
   "outputs": [],
   "source": [
    "df21 = pd.read_csv('bic_tcp_parameters2.csv')\n",
    "\n",
    "df22 = pd.read_csv('log2.log', delimiter='--', engine='python', names=['round', 'message'])\n",
    "df22['round'] = df22['round'].astype(int)\n",
    "df22['message'] = df22['message'].astype(str).apply(str.strip)"
   ]
  },
  {
   "cell_type": "code",
   "execution_count": 6,
   "id": "68769c64",
   "metadata": {},
   "outputs": [
    {
     "data": {
      "text/html": [
       "<div>\n",
       "<style scoped>\n",
       "    .dataframe tbody tr th:only-of-type {\n",
       "        vertical-align: middle;\n",
       "    }\n",
       "\n",
       "    .dataframe tbody tr th {\n",
       "        vertical-align: top;\n",
       "    }\n",
       "\n",
       "    .dataframe thead th {\n",
       "        text-align: right;\n",
       "    }\n",
       "</style>\n",
       "<table border=\"1\" class=\"dataframe\">\n",
       "  <thead>\n",
       "    <tr style=\"text-align: right;\">\n",
       "      <th></th>\n",
       "      <th>round</th>\n",
       "      <th>cwnd</th>\n",
       "      <th>wmax</th>\n",
       "      <th>wmin</th>\n",
       "    </tr>\n",
       "  </thead>\n",
       "  <tbody>\n",
       "    <tr>\n",
       "      <th>0</th>\n",
       "      <td>1.0</td>\n",
       "      <td>10.500000</td>\n",
       "      <td>30.0</td>\n",
       "      <td>5.0</td>\n",
       "    </tr>\n",
       "    <tr>\n",
       "      <th>1</th>\n",
       "      <td>2.0</td>\n",
       "      <td>10.976190</td>\n",
       "      <td>30.0</td>\n",
       "      <td>5.0</td>\n",
       "    </tr>\n",
       "    <tr>\n",
       "      <th>2</th>\n",
       "      <td>3.0</td>\n",
       "      <td>11.431722</td>\n",
       "      <td>30.0</td>\n",
       "      <td>5.0</td>\n",
       "    </tr>\n",
       "    <tr>\n",
       "      <th>3</th>\n",
       "      <td>4.0</td>\n",
       "      <td>11.869101</td>\n",
       "      <td>30.0</td>\n",
       "      <td>5.0</td>\n",
       "    </tr>\n",
       "    <tr>\n",
       "      <th>4</th>\n",
       "      <td>5.0</td>\n",
       "      <td>12.290363</td>\n",
       "      <td>30.0</td>\n",
       "      <td>5.0</td>\n",
       "    </tr>\n",
       "  </tbody>\n",
       "</table>\n",
       "</div>"
      ],
      "text/plain": [
       "   round       cwnd  wmax  wmin\n",
       "0    1.0  10.500000  30.0   5.0\n",
       "1    2.0  10.976190  30.0   5.0\n",
       "2    3.0  11.431722  30.0   5.0\n",
       "3    4.0  11.869101  30.0   5.0\n",
       "4    5.0  12.290363  30.0   5.0"
      ]
     },
     "execution_count": 6,
     "metadata": {},
     "output_type": "execute_result"
    }
   ],
   "source": [
    "df21.head()"
   ]
  },
  {
   "cell_type": "code",
   "execution_count": 7,
   "id": "4158a181",
   "metadata": {},
   "outputs": [
    {
     "data": {
      "text/html": [
       "<div>\n",
       "<style scoped>\n",
       "    .dataframe tbody tr th:only-of-type {\n",
       "        vertical-align: middle;\n",
       "    }\n",
       "\n",
       "    .dataframe tbody tr th {\n",
       "        vertical-align: top;\n",
       "    }\n",
       "\n",
       "    .dataframe thead th {\n",
       "        text-align: right;\n",
       "    }\n",
       "</style>\n",
       "<table border=\"1\" class=\"dataframe\">\n",
       "  <thead>\n",
       "    <tr style=\"text-align: right;\">\n",
       "      <th></th>\n",
       "      <th>round</th>\n",
       "      <th>message</th>\n",
       "    </tr>\n",
       "  </thead>\n",
       "  <tbody>\n",
       "    <tr>\n",
       "      <th>0</th>\n",
       "      <td>1</td>\n",
       "      <td>cwnd(10) &lt; wmax(30)</td>\n",
       "    </tr>\n",
       "    <tr>\n",
       "      <th>1</th>\n",
       "      <td>1</td>\n",
       "      <td>bic increase(10.0) &gt; Smax(5)</td>\n",
       "    </tr>\n",
       "    <tr>\n",
       "      <th>2</th>\n",
       "      <td>1</td>\n",
       "      <td>cwnd = 10.5</td>\n",
       "    </tr>\n",
       "    <tr>\n",
       "      <th>3</th>\n",
       "      <td>2</td>\n",
       "      <td>cwnd(10.5) &lt; wmax(30)</td>\n",
       "    </tr>\n",
       "    <tr>\n",
       "      <th>4</th>\n",
       "      <td>2</td>\n",
       "      <td>bic increase(9.75) &gt; Smax(5)</td>\n",
       "    </tr>\n",
       "  </tbody>\n",
       "</table>\n",
       "</div>"
      ],
      "text/plain": [
       "   round                       message\n",
       "0      1           cwnd(10) < wmax(30)\n",
       "1      1  bic increase(10.0) > Smax(5)\n",
       "2      1                   cwnd = 10.5\n",
       "3      2         cwnd(10.5) < wmax(30)\n",
       "4      2  bic increase(9.75) > Smax(5)"
      ]
     },
     "execution_count": 7,
     "metadata": {},
     "output_type": "execute_result"
    }
   ],
   "source": [
    "df22.head()"
   ]
  },
  {
   "cell_type": "markdown",
   "id": "e1e53bdb",
   "metadata": {},
   "source": [
    "#### NOTE:\n",
    "- df11 and df21 both contain tcp values at the end of each round(RTT).\n",
    "- df12 and df22 both contain BIC TCP logs in 1000 round(RTT).\n",
    "- the second simulation (df21, df22) had more packet loss."
   ]
  },
  {
   "cell_type": "markdown",
   "id": "74dcc0a0",
   "metadata": {},
   "source": [
    "### Get Certain Rounds Info\n",
    "simply just change the numbers and see the results."
   ]
  },
  {
   "cell_type": "markdown",
   "id": "3ed85734",
   "metadata": {},
   "source": [
    "#### - Bic TCP parameters data at the end of round n"
   ]
  },
  {
   "cell_type": "code",
   "execution_count": 8,
   "id": "5b9b4121",
   "metadata": {},
   "outputs": [],
   "source": [
    "n = 1"
   ]
  },
  {
   "cell_type": "code",
   "execution_count": 9,
   "id": "fc2d933b",
   "metadata": {
    "scrolled": true
   },
   "outputs": [
    {
     "data": {
      "text/html": [
       "<div>\n",
       "<style scoped>\n",
       "    .dataframe tbody tr th:only-of-type {\n",
       "        vertical-align: middle;\n",
       "    }\n",
       "\n",
       "    .dataframe tbody tr th {\n",
       "        vertical-align: top;\n",
       "    }\n",
       "\n",
       "    .dataframe thead th {\n",
       "        text-align: right;\n",
       "    }\n",
       "</style>\n",
       "<table border=\"1\" class=\"dataframe\">\n",
       "  <thead>\n",
       "    <tr style=\"text-align: right;\">\n",
       "      <th></th>\n",
       "      <th>round</th>\n",
       "      <th>cwnd</th>\n",
       "      <th>wmax</th>\n",
       "      <th>wmin</th>\n",
       "    </tr>\n",
       "  </thead>\n",
       "  <tbody>\n",
       "    <tr>\n",
       "      <th>0</th>\n",
       "      <td>1.0</td>\n",
       "      <td>10.5</td>\n",
       "      <td>30.0</td>\n",
       "      <td>5.0</td>\n",
       "    </tr>\n",
       "  </tbody>\n",
       "</table>\n",
       "</div>"
      ],
      "text/plain": [
       "   round  cwnd  wmax  wmin\n",
       "0    1.0  10.5  30.0   5.0"
      ]
     },
     "execution_count": 9,
     "metadata": {},
     "output_type": "execute_result"
    }
   ],
   "source": [
    "df11.loc[df11['round']== n]"
   ]
  },
  {
   "cell_type": "code",
   "execution_count": 10,
   "id": "15715afa",
   "metadata": {
    "scrolled": true
   },
   "outputs": [
    {
     "data": {
      "text/html": [
       "<div>\n",
       "<style scoped>\n",
       "    .dataframe tbody tr th:only-of-type {\n",
       "        vertical-align: middle;\n",
       "    }\n",
       "\n",
       "    .dataframe tbody tr th {\n",
       "        vertical-align: top;\n",
       "    }\n",
       "\n",
       "    .dataframe thead th {\n",
       "        text-align: right;\n",
       "    }\n",
       "</style>\n",
       "<table border=\"1\" class=\"dataframe\">\n",
       "  <thead>\n",
       "    <tr style=\"text-align: right;\">\n",
       "      <th></th>\n",
       "      <th>round</th>\n",
       "      <th>cwnd</th>\n",
       "      <th>wmax</th>\n",
       "      <th>wmin</th>\n",
       "    </tr>\n",
       "  </thead>\n",
       "  <tbody>\n",
       "    <tr>\n",
       "      <th>0</th>\n",
       "      <td>1.0</td>\n",
       "      <td>10.5</td>\n",
       "      <td>30.0</td>\n",
       "      <td>5.0</td>\n",
       "    </tr>\n",
       "  </tbody>\n",
       "</table>\n",
       "</div>"
      ],
      "text/plain": [
       "   round  cwnd  wmax  wmin\n",
       "0    1.0  10.5  30.0   5.0"
      ]
     },
     "execution_count": 10,
     "metadata": {},
     "output_type": "execute_result"
    }
   ],
   "source": [
    "df21.loc[df21['round']== n]"
   ]
  },
  {
   "cell_type": "markdown",
   "id": "d00acb5b",
   "metadata": {},
   "source": [
    "#### - Bic TCP logs at round n"
   ]
  },
  {
   "cell_type": "code",
   "execution_count": 11,
   "id": "15d01db7",
   "metadata": {},
   "outputs": [
    {
     "data": {
      "text/html": [
       "<div>\n",
       "<style scoped>\n",
       "    .dataframe tbody tr th:only-of-type {\n",
       "        vertical-align: middle;\n",
       "    }\n",
       "\n",
       "    .dataframe tbody tr th {\n",
       "        vertical-align: top;\n",
       "    }\n",
       "\n",
       "    .dataframe thead th {\n",
       "        text-align: right;\n",
       "    }\n",
       "</style>\n",
       "<table border=\"1\" class=\"dataframe\">\n",
       "  <thead>\n",
       "    <tr style=\"text-align: right;\">\n",
       "      <th></th>\n",
       "      <th>round</th>\n",
       "      <th>message</th>\n",
       "    </tr>\n",
       "  </thead>\n",
       "  <tbody>\n",
       "    <tr>\n",
       "      <th>0</th>\n",
       "      <td>1</td>\n",
       "      <td>cwnd(10) &lt; wmax(30)</td>\n",
       "    </tr>\n",
       "    <tr>\n",
       "      <th>1</th>\n",
       "      <td>1</td>\n",
       "      <td>bic increase(10.0) &gt; Smax(5)</td>\n",
       "    </tr>\n",
       "    <tr>\n",
       "      <th>2</th>\n",
       "      <td>1</td>\n",
       "      <td>cwnd = 10.5</td>\n",
       "    </tr>\n",
       "  </tbody>\n",
       "</table>\n",
       "</div>"
      ],
      "text/plain": [
       "   round                       message\n",
       "0      1           cwnd(10) < wmax(30)\n",
       "1      1  bic increase(10.0) > Smax(5)\n",
       "2      1                   cwnd = 10.5"
      ]
     },
     "execution_count": 11,
     "metadata": {},
     "output_type": "execute_result"
    }
   ],
   "source": [
    "df12.loc[df12['round']== n]"
   ]
  },
  {
   "cell_type": "code",
   "execution_count": 12,
   "id": "17fa6925",
   "metadata": {},
   "outputs": [
    {
     "data": {
      "text/html": [
       "<div>\n",
       "<style scoped>\n",
       "    .dataframe tbody tr th:only-of-type {\n",
       "        vertical-align: middle;\n",
       "    }\n",
       "\n",
       "    .dataframe tbody tr th {\n",
       "        vertical-align: top;\n",
       "    }\n",
       "\n",
       "    .dataframe thead th {\n",
       "        text-align: right;\n",
       "    }\n",
       "</style>\n",
       "<table border=\"1\" class=\"dataframe\">\n",
       "  <thead>\n",
       "    <tr style=\"text-align: right;\">\n",
       "      <th></th>\n",
       "      <th>round</th>\n",
       "      <th>message</th>\n",
       "    </tr>\n",
       "  </thead>\n",
       "  <tbody>\n",
       "    <tr>\n",
       "      <th>0</th>\n",
       "      <td>1</td>\n",
       "      <td>cwnd(10) &lt; wmax(30)</td>\n",
       "    </tr>\n",
       "    <tr>\n",
       "      <th>1</th>\n",
       "      <td>1</td>\n",
       "      <td>bic increase(10.0) &gt; Smax(5)</td>\n",
       "    </tr>\n",
       "    <tr>\n",
       "      <th>2</th>\n",
       "      <td>1</td>\n",
       "      <td>cwnd = 10.5</td>\n",
       "    </tr>\n",
       "  </tbody>\n",
       "</table>\n",
       "</div>"
      ],
      "text/plain": [
       "   round                       message\n",
       "0      1           cwnd(10) < wmax(30)\n",
       "1      1  bic increase(10.0) > Smax(5)\n",
       "2      1                   cwnd = 10.5"
      ]
     },
     "execution_count": 12,
     "metadata": {},
     "output_type": "execute_result"
    }
   ],
   "source": [
    "df22.loc[df22['round']== n]"
   ]
  },
  {
   "cell_type": "markdown",
   "id": "a0c889a2",
   "metadata": {},
   "source": [
    "### Descriptive Statistics of the first dataframe.\n",
    "without considering round column"
   ]
  },
  {
   "cell_type": "code",
   "execution_count": 13,
   "id": "71709ba2",
   "metadata": {
    "scrolled": false
   },
   "outputs": [
    {
     "data": {
      "text/html": [
       "<div>\n",
       "<style scoped>\n",
       "    .dataframe tbody tr th:only-of-type {\n",
       "        vertical-align: middle;\n",
       "    }\n",
       "\n",
       "    .dataframe tbody tr th {\n",
       "        vertical-align: top;\n",
       "    }\n",
       "\n",
       "    .dataframe thead th {\n",
       "        text-align: right;\n",
       "    }\n",
       "</style>\n",
       "<table border=\"1\" class=\"dataframe\">\n",
       "  <thead>\n",
       "    <tr style=\"text-align: right;\">\n",
       "      <th></th>\n",
       "      <th>cwnd</th>\n",
       "      <th>wmax</th>\n",
       "      <th>wmin</th>\n",
       "    </tr>\n",
       "  </thead>\n",
       "  <tbody>\n",
       "    <tr>\n",
       "      <th>count</th>\n",
       "      <td>1000.000000</td>\n",
       "      <td>1000.000000</td>\n",
       "      <td>1000.0</td>\n",
       "    </tr>\n",
       "    <tr>\n",
       "      <th>mean</th>\n",
       "      <td>31.433616</td>\n",
       "      <td>30.656178</td>\n",
       "      <td>5.0</td>\n",
       "    </tr>\n",
       "    <tr>\n",
       "      <th>std</th>\n",
       "      <td>5.772626</td>\n",
       "      <td>8.962233</td>\n",
       "      <td>0.0</td>\n",
       "    </tr>\n",
       "    <tr>\n",
       "      <th>min</th>\n",
       "      <td>9.604167</td>\n",
       "      <td>10.290179</td>\n",
       "      <td>5.0</td>\n",
       "    </tr>\n",
       "    <tr>\n",
       "      <th>25%</th>\n",
       "      <td>28.616758</td>\n",
       "      <td>28.773247</td>\n",
       "      <td>5.0</td>\n",
       "    </tr>\n",
       "    <tr>\n",
       "      <th>50%</th>\n",
       "      <td>33.339604</td>\n",
       "      <td>35.025955</td>\n",
       "      <td>5.0</td>\n",
       "    </tr>\n",
       "    <tr>\n",
       "      <th>75%</th>\n",
       "      <td>35.282111</td>\n",
       "      <td>36.152939</td>\n",
       "      <td>5.0</td>\n",
       "    </tr>\n",
       "    <tr>\n",
       "      <th>max</th>\n",
       "      <td>39.828927</td>\n",
       "      <td>39.923420</td>\n",
       "      <td>5.0</td>\n",
       "    </tr>\n",
       "  </tbody>\n",
       "</table>\n",
       "</div>"
      ],
      "text/plain": [
       "              cwnd         wmax    wmin\n",
       "count  1000.000000  1000.000000  1000.0\n",
       "mean     31.433616    30.656178     5.0\n",
       "std       5.772626     8.962233     0.0\n",
       "min       9.604167    10.290179     5.0\n",
       "25%      28.616758    28.773247     5.0\n",
       "50%      33.339604    35.025955     5.0\n",
       "75%      35.282111    36.152939     5.0\n",
       "max      39.828927    39.923420     5.0"
      ]
     },
     "execution_count": 13,
     "metadata": {},
     "output_type": "execute_result"
    }
   ],
   "source": [
    "df11.iloc[:, 1:].describe()"
   ]
  },
  {
   "cell_type": "code",
   "execution_count": 14,
   "id": "a095cde3",
   "metadata": {
    "scrolled": true
   },
   "outputs": [
    {
     "data": {
      "text/html": [
       "<div>\n",
       "<style scoped>\n",
       "    .dataframe tbody tr th:only-of-type {\n",
       "        vertical-align: middle;\n",
       "    }\n",
       "\n",
       "    .dataframe tbody tr th {\n",
       "        vertical-align: top;\n",
       "    }\n",
       "\n",
       "    .dataframe thead th {\n",
       "        text-align: right;\n",
       "    }\n",
       "</style>\n",
       "<table border=\"1\" class=\"dataframe\">\n",
       "  <thead>\n",
       "    <tr style=\"text-align: right;\">\n",
       "      <th></th>\n",
       "      <th>cwnd</th>\n",
       "      <th>wmax</th>\n",
       "      <th>wmin</th>\n",
       "    </tr>\n",
       "  </thead>\n",
       "  <tbody>\n",
       "    <tr>\n",
       "      <th>count</th>\n",
       "      <td>1000.000000</td>\n",
       "      <td>1000.000000</td>\n",
       "      <td>1000.0</td>\n",
       "    </tr>\n",
       "    <tr>\n",
       "      <th>mean</th>\n",
       "      <td>17.306670</td>\n",
       "      <td>17.855934</td>\n",
       "      <td>5.0</td>\n",
       "    </tr>\n",
       "    <tr>\n",
       "      <th>std</th>\n",
       "      <td>2.058791</td>\n",
       "      <td>2.636943</td>\n",
       "      <td>0.0</td>\n",
       "    </tr>\n",
       "    <tr>\n",
       "      <th>min</th>\n",
       "      <td>10.500000</td>\n",
       "      <td>13.647358</td>\n",
       "      <td>5.0</td>\n",
       "    </tr>\n",
       "    <tr>\n",
       "      <th>25%</th>\n",
       "      <td>15.861527</td>\n",
       "      <td>16.066191</td>\n",
       "      <td>5.0</td>\n",
       "    </tr>\n",
       "    <tr>\n",
       "      <th>50%</th>\n",
       "      <td>16.870774</td>\n",
       "      <td>17.424717</td>\n",
       "      <td>5.0</td>\n",
       "    </tr>\n",
       "    <tr>\n",
       "      <th>75%</th>\n",
       "      <td>18.726866</td>\n",
       "      <td>19.334626</td>\n",
       "      <td>5.0</td>\n",
       "    </tr>\n",
       "    <tr>\n",
       "      <th>max</th>\n",
       "      <td>22.413043</td>\n",
       "      <td>30.000000</td>\n",
       "      <td>5.0</td>\n",
       "    </tr>\n",
       "  </tbody>\n",
       "</table>\n",
       "</div>"
      ],
      "text/plain": [
       "              cwnd         wmax    wmin\n",
       "count  1000.000000  1000.000000  1000.0\n",
       "mean     17.306670    17.855934     5.0\n",
       "std       2.058791     2.636943     0.0\n",
       "min      10.500000    13.647358     5.0\n",
       "25%      15.861527    16.066191     5.0\n",
       "50%      16.870774    17.424717     5.0\n",
       "75%      18.726866    19.334626     5.0\n",
       "max      22.413043    30.000000     5.0"
      ]
     },
     "execution_count": 14,
     "metadata": {},
     "output_type": "execute_result"
    }
   ],
   "source": [
    "df21.iloc[:, 1:].describe()"
   ]
  },
  {
   "cell_type": "markdown",
   "id": "16fb9ece",
   "metadata": {},
   "source": [
    "### Get rounds where packet loss occured."
   ]
  },
  {
   "cell_type": "code",
   "execution_count": 15,
   "id": "b2ee24bd",
   "metadata": {},
   "outputs": [],
   "source": [
    "def get_packet_loss_rounds(df):\n",
    "    \"\"\"\n",
    "    it filters the given dataframe and make a list of the round numbers\n",
    "    and prints the len of list and the list.\n",
    "    \"\"\"\n",
    "    filtered_df = df.loc[df['message'] == 'PACKET LOSS']\n",
    "    rounds = filtered_df['round'].tolist()\n",
    "    print(len(rounds))\n",
    "    print(*rounds, sep=' ,')"
   ]
  },
  {
   "cell_type": "code",
   "execution_count": 16,
   "id": "ab056f07",
   "metadata": {},
   "outputs": [
    {
     "name": "stdout",
     "output_type": "stream",
     "text": [
      "11\n",
      "2 ,147 ,359 ,407 ,525 ,675 ,732 ,733 ,790 ,935 ,1001\n"
     ]
    }
   ],
   "source": [
    "get_packet_loss_rounds(df12)"
   ]
  },
  {
   "cell_type": "code",
   "execution_count": 17,
   "id": "c49acb5d",
   "metadata": {
    "scrolled": false
   },
   "outputs": [
    {
     "name": "stdout",
     "output_type": "stream",
     "text": [
      "29\n",
      "11 ,65 ,147 ,217 ,260 ,299 ,340 ,356 ,386 ,393 ,442 ,460 ,502 ,535 ,568 ,605 ,644 ,657 ,703 ,730 ,759 ,801 ,812 ,870 ,879 ,934 ,965 ,979 ,1001\n"
     ]
    }
   ],
   "source": [
    "get_packet_loss_rounds(df22)"
   ]
  },
  {
   "cell_type": "markdown",
   "id": "5ae3e0c0",
   "metadata": {},
   "source": [
    "### Plotting BIC TCP parameters over time."
   ]
  },
  {
   "cell_type": "code",
   "execution_count": 18,
   "id": "958ca871",
   "metadata": {},
   "outputs": [
    {
     "data": {
      "image/png": "[encoded data removed]",
      "text/plain": [
       "<Figure size 720x576 with 2 Axes>"
      ]
     },
     "metadata": {
      "needs_background": "light"
     },
     "output_type": "display_data"
    }
   ],
   "source": [
    "fig, axs = plt.subplots(2, 1, figsize=(10, 8))\n",
    "\n",
    "# Plot wmax against roundnumber\n",
    "axs[0].plot(df11['round'], df11['wmax'], label='wmax', color='green')\n",
    "axs[0].set_xlabel('Round Number')\n",
    "axs[0].set_ylabel('Wmax')\n",
    "axs[0].set_title('Wmax Evolution')\n",
    "axs[0].grid(True)\n",
    "axs[0].legend()\n",
    "\n",
    "# Plot cwnd against roundnumber\n",
    "axs[1].plot(df11['round'], df11['cwnd'], label='cwnd', color='blue')\n",
    "axs[1].set_xlabel('Round Number')\n",
    "axs[1].set_ylabel('Cwnd')\n",
    "axs[1].set_title('Cwnd Evolution')\n",
    "axs[1].grid(True)\n",
    "axs[1].legend()\n",
    "\n",
    "plt.tight_layout()"
   ]
  },
  {
   "cell_type": "code",
   "execution_count": 19,
   "id": "1861d5a1",
   "metadata": {},
   "outputs": [
    {
     "data": {
      "image/png": "[encoded data removed]",
      "text/plain": [
       "<Figure size 720x576 with 2 Axes>"
      ]
     },
     "metadata": {
      "needs_background": "light"
     },
     "output_type": "display_data"
    }
   ],
   "source": [
    "fig, axs = plt.subplots(2, 1, figsize=(10, 8))\n",
    "\n",
    "# Plot wmax against roundnumber\n",
    "axs[0].plot(df21['round'], df21['wmax'], label='wmax', color='green')\n",
    "axs[0].set_xlabel('Round Number')\n",
    "axs[0].set_ylabel('Wmax')\n",
    "axs[0].set_title('Wmax Evolution')\n",
    "axs[0].grid(True)\n",
    "axs[0].legend()\n",
    "\n",
    "# Plot cwnd against roundnumber\n",
    "axs[1].plot(df21['round'], df21['cwnd'], label='cwnd', color='green')\n",
    "axs[1].set_xlabel('Round Number')\n",
    "axs[1].set_ylabel('Cwnd')\n",
    "axs[1].set_title('Cwnd Evolution')\n",
    "axs[1].grid(True)\n",
    "axs[1].legend()\n",
    "\n",
    "plt.tight_layout()"
   ]
  }
 ],
 "metadata": {
  "kernelspec": {
   "display_name": "Python 3 (ipykernel)",
   "language": "python",
   "name": "python3"
  },
  "language_info": {
   "codemirror_mode": {
    "name": "ipython",
    "version": 3
   },
   "file_extension": ".py",
   "mimetype": "text/x-python",
   "name": "python",
   "nbconvert_exporter": "python",
   "pygments_lexer": "ipython3",
   "version": "3.9.12"
  }
 },
 "nbformat": 4,
 "nbformat_minor": 5
}
