{
 "cells": [
  {
   "cell_type": "markdown",
   "id": "1db97bfb",
   "metadata": {},
   "source": [
    "# BIC TCP Simulation Analyzes"
   ]
  },
  {
   "cell_type": "markdown",
   "id": "495dad22",
   "metadata": {},
   "source": [
    "### importing necessary libraries"
   ]
  },
  {
   "cell_type": "code",
   "execution_count": 1,
   "id": "03616244",
   "metadata": {},
   "outputs": [],
   "source": [
    "import matplotlib.pyplot as plt\n",
    "import pandas as pd"
   ]
  },
  {
   "cell_type": "markdown",
   "id": "cbff88d2",
   "metadata": {},
   "source": [
    "### Reading Data"
   ]
  },
  {
   "cell_type": "code",
   "execution_count": 2,
   "id": "2c5978dd",
   "metadata": {},
   "outputs": [],
   "source": [
    "df1 = pd.read_csv('bic_tcp_parameters.csv')\n",
    "\n",
    "df2 = pd.read_csv('log.log', delimiter='--', engine='python', names=['round', 'message'])\n",
    "df2['round'] = df2['round'].astype(int)\n",
    "df2['message'] = df2['message'].astype(str).apply(str.strip)"
   ]
  },
  {
   "cell_type": "code",
   "execution_count": 3,
   "id": "1ec11012",
   "metadata": {},
   "outputs": [
    {
     "data": {
      "text/html": [
       "<div>\n",
       "<style scoped>\n",
       "    .dataframe tbody tr th:only-of-type {\n",
       "        vertical-align: middle;\n",
       "    }\n",
       "\n",
       "    .dataframe tbody tr th {\n",
       "        vertical-align: top;\n",
       "    }\n",
       "\n",
       "    .dataframe thead th {\n",
       "        text-align: right;\n",
       "    }\n",
       "</style>\n",
       "<table border=\"1\" class=\"dataframe\">\n",
       "  <thead>\n",
       "    <tr style=\"text-align: right;\">\n",
       "      <th></th>\n",
       "      <th>round</th>\n",
       "      <th>cwnd</th>\n",
       "      <th>wmax</th>\n",
       "      <th>wmin</th>\n",
       "    </tr>\n",
       "  </thead>\n",
       "  <tbody>\n",
       "    <tr>\n",
       "      <th>0</th>\n",
       "      <td>1.0</td>\n",
       "      <td>15.0</td>\n",
       "      <td>30.0</td>\n",
       "      <td>17.50000</td>\n",
       "    </tr>\n",
       "    <tr>\n",
       "      <th>1</th>\n",
       "      <td>2.0</td>\n",
       "      <td>20.0</td>\n",
       "      <td>30.0</td>\n",
       "      <td>23.75000</td>\n",
       "    </tr>\n",
       "    <tr>\n",
       "      <th>2</th>\n",
       "      <td>3.0</td>\n",
       "      <td>25.0</td>\n",
       "      <td>30.0</td>\n",
       "      <td>26.87500</td>\n",
       "    </tr>\n",
       "    <tr>\n",
       "      <th>3</th>\n",
       "      <td>4.0</td>\n",
       "      <td>25.0</td>\n",
       "      <td>30.0</td>\n",
       "      <td>28.43750</td>\n",
       "    </tr>\n",
       "    <tr>\n",
       "      <th>4</th>\n",
       "      <td>5.0</td>\n",
       "      <td>25.0</td>\n",
       "      <td>30.0</td>\n",
       "      <td>29.21875</td>\n",
       "    </tr>\n",
       "  </tbody>\n",
       "</table>\n",
       "</div>"
      ],
      "text/plain": [
       "   round  cwnd  wmax      wmin\n",
       "0    1.0  15.0  30.0  17.50000\n",
       "1    2.0  20.0  30.0  23.75000\n",
       "2    3.0  25.0  30.0  26.87500\n",
       "3    4.0  25.0  30.0  28.43750\n",
       "4    5.0  25.0  30.0  29.21875"
      ]
     },
     "execution_count": 3,
     "metadata": {},
     "output_type": "execute_result"
    }
   ],
   "source": [
    "df1.head()"
   ]
  },
  {
   "cell_type": "code",
   "execution_count": 4,
   "id": "6eacb391",
   "metadata": {
    "scrolled": true
   },
   "outputs": [
    {
     "data": {
      "text/html": [
       "<div>\n",
       "<style scoped>\n",
       "    .dataframe tbody tr th:only-of-type {\n",
       "        vertical-align: middle;\n",
       "    }\n",
       "\n",
       "    .dataframe tbody tr th {\n",
       "        vertical-align: top;\n",
       "    }\n",
       "\n",
       "    .dataframe thead th {\n",
       "        text-align: right;\n",
       "    }\n",
       "</style>\n",
       "<table border=\"1\" class=\"dataframe\">\n",
       "  <thead>\n",
       "    <tr style=\"text-align: right;\">\n",
       "      <th></th>\n",
       "      <th>round</th>\n",
       "      <th>message</th>\n",
       "    </tr>\n",
       "  </thead>\n",
       "  <tbody>\n",
       "    <tr>\n",
       "      <th>0</th>\n",
       "      <td>1</td>\n",
       "      <td>Binary Search Increase</td>\n",
       "    </tr>\n",
       "    <tr>\n",
       "      <th>1</th>\n",
       "      <td>1</td>\n",
       "      <td>midpoint = 17.5</td>\n",
       "    </tr>\n",
       "    <tr>\n",
       "      <th>2</th>\n",
       "      <td>1</td>\n",
       "      <td>wmin = 17.5</td>\n",
       "    </tr>\n",
       "    <tr>\n",
       "      <th>3</th>\n",
       "      <td>1</td>\n",
       "      <td>wmax(30) - cwnd(10) &gt; smax(5)</td>\n",
       "    </tr>\n",
       "    <tr>\n",
       "      <th>4</th>\n",
       "      <td>1</td>\n",
       "      <td>Additive Increase</td>\n",
       "    </tr>\n",
       "  </tbody>\n",
       "</table>\n",
       "</div>"
      ],
      "text/plain": [
       "   round                        message\n",
       "0      1         Binary Search Increase\n",
       "1      1                midpoint = 17.5\n",
       "2      1                    wmin = 17.5\n",
       "3      1  wmax(30) - cwnd(10) > smax(5)\n",
       "4      1              Additive Increase"
      ]
     },
     "execution_count": 4,
     "metadata": {},
     "output_type": "execute_result"
    }
   ],
   "source": [
    "df2.head()"
   ]
  },
  {
   "cell_type": "markdown",
   "id": "86a406e7",
   "metadata": {},
   "source": [
    "#### NOTE:\n",
    "- df1 contains tcp values at the end of each round(RTT).\n",
    "- df2 contains BIC TCP logs in 50 round(RTT)."
   ]
  },
  {
   "cell_type": "markdown",
   "id": "94529028",
   "metadata": {},
   "source": [
    "### Get Certain Rounds Info\n",
    "simply just change the n and see the results."
   ]
  },
  {
   "cell_type": "markdown",
   "id": "f799ac77",
   "metadata": {},
   "source": [
    "#### - Bic TCP parameters data at the end of round n"
   ]
  },
  {
   "cell_type": "code",
   "execution_count": 5,
   "id": "6487f4c9",
   "metadata": {},
   "outputs": [],
   "source": [
    "n = 1"
   ]
  },
  {
   "cell_type": "code",
   "execution_count": 6,
   "id": "021b7119",
   "metadata": {},
   "outputs": [
    {
     "data": {
      "text/html": [
       "<div>\n",
       "<style scoped>\n",
       "    .dataframe tbody tr th:only-of-type {\n",
       "        vertical-align: middle;\n",
       "    }\n",
       "\n",
       "    .dataframe tbody tr th {\n",
       "        vertical-align: top;\n",
       "    }\n",
       "\n",
       "    .dataframe thead th {\n",
       "        text-align: right;\n",
       "    }\n",
       "</style>\n",
       "<table border=\"1\" class=\"dataframe\">\n",
       "  <thead>\n",
       "    <tr style=\"text-align: right;\">\n",
       "      <th></th>\n",
       "      <th>round</th>\n",
       "      <th>cwnd</th>\n",
       "      <th>wmax</th>\n",
       "      <th>wmin</th>\n",
       "    </tr>\n",
       "  </thead>\n",
       "  <tbody>\n",
       "    <tr>\n",
       "      <th>0</th>\n",
       "      <td>1.0</td>\n",
       "      <td>15.0</td>\n",
       "      <td>30.0</td>\n",
       "      <td>17.5</td>\n",
       "    </tr>\n",
       "  </tbody>\n",
       "</table>\n",
       "</div>"
      ],
      "text/plain": [
       "   round  cwnd  wmax  wmin\n",
       "0    1.0  15.0  30.0  17.5"
      ]
     },
     "execution_count": 6,
     "metadata": {},
     "output_type": "execute_result"
    }
   ],
   "source": [
    "df1.loc[df1['round']== n]"
   ]
  },
  {
   "cell_type": "markdown",
   "id": "74761930",
   "metadata": {},
   "source": [
    "#### - Bic TCP logs at round n"
   ]
  },
  {
   "cell_type": "code",
   "execution_count": 7,
   "id": "d7aca85a",
   "metadata": {
    "scrolled": true
   },
   "outputs": [
    {
     "data": {
      "text/html": [
       "<div>\n",
       "<style scoped>\n",
       "    .dataframe tbody tr th:only-of-type {\n",
       "        vertical-align: middle;\n",
       "    }\n",
       "\n",
       "    .dataframe tbody tr th {\n",
       "        vertical-align: top;\n",
       "    }\n",
       "\n",
       "    .dataframe thead th {\n",
       "        text-align: right;\n",
       "    }\n",
       "</style>\n",
       "<table border=\"1\" class=\"dataframe\">\n",
       "  <thead>\n",
       "    <tr style=\"text-align: right;\">\n",
       "      <th></th>\n",
       "      <th>round</th>\n",
       "      <th>message</th>\n",
       "    </tr>\n",
       "  </thead>\n",
       "  <tbody>\n",
       "    <tr>\n",
       "      <th>0</th>\n",
       "      <td>1</td>\n",
       "      <td>Binary Search Increase</td>\n",
       "    </tr>\n",
       "    <tr>\n",
       "      <th>1</th>\n",
       "      <td>1</td>\n",
       "      <td>midpoint = 17.5</td>\n",
       "    </tr>\n",
       "    <tr>\n",
       "      <th>2</th>\n",
       "      <td>1</td>\n",
       "      <td>wmin = 17.5</td>\n",
       "    </tr>\n",
       "    <tr>\n",
       "      <th>3</th>\n",
       "      <td>1</td>\n",
       "      <td>wmax(30) - cwnd(10) &gt; smax(5)</td>\n",
       "    </tr>\n",
       "    <tr>\n",
       "      <th>4</th>\n",
       "      <td>1</td>\n",
       "      <td>Additive Increase</td>\n",
       "    </tr>\n",
       "    <tr>\n",
       "      <th>5</th>\n",
       "      <td>1</td>\n",
       "      <td>wmax(30) - cwnd(10) &gt; smax(5)</td>\n",
       "    </tr>\n",
       "    <tr>\n",
       "      <th>6</th>\n",
       "      <td>1</td>\n",
       "      <td>cwnd = 15</td>\n",
       "    </tr>\n",
       "  </tbody>\n",
       "</table>\n",
       "</div>"
      ],
      "text/plain": [
       "   round                        message\n",
       "0      1         Binary Search Increase\n",
       "1      1                midpoint = 17.5\n",
       "2      1                    wmin = 17.5\n",
       "3      1  wmax(30) - cwnd(10) > smax(5)\n",
       "4      1              Additive Increase\n",
       "5      1  wmax(30) - cwnd(10) > smax(5)\n",
       "6      1                      cwnd = 15"
      ]
     },
     "execution_count": 7,
     "metadata": {},
     "output_type": "execute_result"
    }
   ],
   "source": [
    "df2.loc[df2['round']== n]"
   ]
  },
  {
   "cell_type": "markdown",
   "id": "2c451478",
   "metadata": {},
   "source": [
    "### Descriptive Statistics of the first dataframe.\n",
    "without considering round column"
   ]
  },
  {
   "cell_type": "code",
   "execution_count": 8,
   "id": "71d6b568",
   "metadata": {},
   "outputs": [
    {
     "data": {
      "text/html": [
       "<div>\n",
       "<style scoped>\n",
       "    .dataframe tbody tr th:only-of-type {\n",
       "        vertical-align: middle;\n",
       "    }\n",
       "\n",
       "    .dataframe tbody tr th {\n",
       "        vertical-align: top;\n",
       "    }\n",
       "\n",
       "    .dataframe thead th {\n",
       "        text-align: right;\n",
       "    }\n",
       "</style>\n",
       "<table border=\"1\" class=\"dataframe\">\n",
       "  <thead>\n",
       "    <tr style=\"text-align: right;\">\n",
       "      <th></th>\n",
       "      <th>cwnd</th>\n",
       "      <th>wmax</th>\n",
       "      <th>wmin</th>\n",
       "    </tr>\n",
       "  </thead>\n",
       "  <tbody>\n",
       "    <tr>\n",
       "      <th>count</th>\n",
       "      <td>50.000000</td>\n",
       "      <td>50.0</td>\n",
       "      <td>50.000000</td>\n",
       "    </tr>\n",
       "    <tr>\n",
       "      <th>mean</th>\n",
       "      <td>28.848437</td>\n",
       "      <td>30.0</td>\n",
       "      <td>28.812500</td>\n",
       "    </tr>\n",
       "    <tr>\n",
       "      <th>std</th>\n",
       "      <td>2.636330</td>\n",
       "      <td>0.0</td>\n",
       "      <td>1.835522</td>\n",
       "    </tr>\n",
       "    <tr>\n",
       "      <th>min</th>\n",
       "      <td>15.000000</td>\n",
       "      <td>30.0</td>\n",
       "      <td>17.500000</td>\n",
       "    </tr>\n",
       "    <tr>\n",
       "      <th>25%</th>\n",
       "      <td>29.609375</td>\n",
       "      <td>30.0</td>\n",
       "      <td>29.218750</td>\n",
       "    </tr>\n",
       "    <tr>\n",
       "      <th>50%</th>\n",
       "      <td>29.609375</td>\n",
       "      <td>30.0</td>\n",
       "      <td>29.218750</td>\n",
       "    </tr>\n",
       "    <tr>\n",
       "      <th>75%</th>\n",
       "      <td>29.609375</td>\n",
       "      <td>30.0</td>\n",
       "      <td>29.218750</td>\n",
       "    </tr>\n",
       "    <tr>\n",
       "      <th>max</th>\n",
       "      <td>29.609375</td>\n",
       "      <td>30.0</td>\n",
       "      <td>29.218750</td>\n",
       "    </tr>\n",
       "  </tbody>\n",
       "</table>\n",
       "</div>"
      ],
      "text/plain": [
       "            cwnd  wmax       wmin\n",
       "count  50.000000  50.0  50.000000\n",
       "mean   28.848437  30.0  28.812500\n",
       "std     2.636330   0.0   1.835522\n",
       "min    15.000000  30.0  17.500000\n",
       "25%    29.609375  30.0  29.218750\n",
       "50%    29.609375  30.0  29.218750\n",
       "75%    29.609375  30.0  29.218750\n",
       "max    29.609375  30.0  29.218750"
      ]
     },
     "execution_count": 8,
     "metadata": {},
     "output_type": "execute_result"
    }
   ],
   "source": [
    "df1.iloc[:, 1:].describe()"
   ]
  },
  {
   "cell_type": "markdown",
   "id": "7ebc45ed",
   "metadata": {},
   "source": [
    "### Plotting BIC TCP parameters over time."
   ]
  },
  {
   "cell_type": "code",
   "execution_count": 9,
   "id": "4617f348",
   "metadata": {},
   "outputs": [
    {
     "data": {
      "image/png": "[encoded data removed]",
      "text/plain": [
       "<Figure size 720x576 with 2 Axes>"
      ]
     },
     "metadata": {
      "needs_background": "light"
     },
     "output_type": "display_data"
    }
   ],
   "source": [
    "fig, axs = plt.subplots(2, 1, figsize=(10, 8))\n",
    "\n",
    "# Plot wmax against roundnumber\n",
    "axs[0].plot(df1['round'], df1['wmax'], label='wmax', color='green')\n",
    "axs[0].set_xlabel('Round Number')\n",
    "axs[0].set_ylabel('Wmax')\n",
    "axs[0].set_title('Wmax Evolution')\n",
    "axs[0].grid(True)\n",
    "axs[0].legend()\n",
    "\n",
    "# Plot cwnd against roundnumber\n",
    "axs[1].plot(df1['round'], df1['cwnd'], label='cwnd', color='green')\n",
    "axs[1].set_xlabel('Round Number')\n",
    "axs[1].set_ylabel('Cwnd')\n",
    "axs[1].set_title('Cwnd Evolution')\n",
    "axs[1].grid(True)\n",
    "axs[1].legend()\n",
    "\n",
    "plt.tight_layout()"
   ]
  }
 ],
 "metadata": {
  "kernelspec": {
   "display_name": "Python 3 (ipykernel)",
   "language": "python",
   "name": "python3"
  },
  "language_info": {
   "codemirror_mode": {
    "name": "ipython",
    "version": 3
   },
   "file_extension": ".py",
   "mimetype": "text/x-python",
   "name": "python",
   "nbconvert_exporter": "python",
   "pygments_lexer": "ipython3",
   "version": "3.9.12"
  }
 },
 "nbformat": 4,
 "nbformat_minor": 5
}
