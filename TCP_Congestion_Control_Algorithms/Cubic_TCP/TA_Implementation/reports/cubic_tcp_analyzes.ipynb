{
 "cells": [
  {
   "cell_type": "markdown",
   "id": "4d9e465c",
   "metadata": {},
   "source": [
    "# Cubic TCP Simulation Analyzes"
   ]
  },
  {
   "cell_type": "markdown",
   "id": "42acb2cb",
   "metadata": {},
   "source": [
    "Two simulations were done.\n",
    "- in the first simulation everything was normal.\n",
    "- in the second simulation there was more packet loss.\n",
    "\n",
    "Threading was used to simulate packet loss and timeout which waits for random number and then their actions get executed."
   ]
  },
  {
   "cell_type": "markdown",
   "id": "018d0c86",
   "metadata": {},
   "source": [
    "### importing necessary libraries"
   ]
  },
  {
   "cell_type": "code",
   "execution_count": 2,
   "id": "0482db22",
   "metadata": {},
   "outputs": [],
   "source": [
    "import pandas as pd\n",
    "import matplotlib.pyplot as plt"
   ]
  },
  {
   "cell_type": "markdown",
   "id": "0ee977d5",
   "metadata": {},
   "source": [
    "### Reading Data"
   ]
  },
  {
   "cell_type": "code",
   "execution_count": 3,
   "id": "98ece746",
   "metadata": {},
   "outputs": [],
   "source": [
    "df11 = pd.read_csv('cubic_tcp_parameters1.csv')\n",
    "\n",
    "df12 = pd.read_csv('log1.log', delimiter='--', engine='python', names=['round', 'message'])\n",
    "df12['round'] = df12['round'].astype(int)\n",
    "df12['message'] = df12['message'].astype(str).apply(str.strip)"
   ]
  },
  {
   "cell_type": "code",
   "execution_count": 4,
   "id": "69ef562b",
   "metadata": {},
   "outputs": [
    {
     "data": {
      "text/html": [
       "<div>\n",
       "<style scoped>\n",
       "    .dataframe tbody tr th:only-of-type {\n",
       "        vertical-align: middle;\n",
       "    }\n",
       "\n",
       "    .dataframe tbody tr th {\n",
       "        vertical-align: top;\n",
       "    }\n",
       "\n",
       "    .dataframe thead th {\n",
       "        text-align: right;\n",
       "    }\n",
       "</style>\n",
       "<table border=\"1\" class=\"dataframe\">\n",
       "  <thead>\n",
       "    <tr style=\"text-align: right;\">\n",
       "      <th></th>\n",
       "      <th>t</th>\n",
       "      <th>cwnd</th>\n",
       "      <th>wmax</th>\n",
       "      <th>k</th>\n",
       "      <th>t_lastloss</th>\n",
       "    </tr>\n",
       "  </thead>\n",
       "  <tbody>\n",
       "    <tr>\n",
       "      <th>0</th>\n",
       "      <td>1.0</td>\n",
       "      <td>10.726070</td>\n",
       "      <td>4.169775</td>\n",
       "      <td>30.0</td>\n",
       "      <td>0.0</td>\n",
       "    </tr>\n",
       "    <tr>\n",
       "      <th>1</th>\n",
       "      <td>2.0</td>\n",
       "      <td>12.142048</td>\n",
       "      <td>4.169775</td>\n",
       "      <td>30.0</td>\n",
       "      <td>0.0</td>\n",
       "    </tr>\n",
       "    <tr>\n",
       "      <th>2</th>\n",
       "      <td>3.0</td>\n",
       "      <td>13.560068</td>\n",
       "      <td>4.169775</td>\n",
       "      <td>30.0</td>\n",
       "      <td>0.0</td>\n",
       "    </tr>\n",
       "    <tr>\n",
       "      <th>3</th>\n",
       "      <td>4.0</td>\n",
       "      <td>14.772302</td>\n",
       "      <td>4.169775</td>\n",
       "      <td>30.0</td>\n",
       "      <td>0.0</td>\n",
       "    </tr>\n",
       "    <tr>\n",
       "      <th>4</th>\n",
       "      <td>5.0</td>\n",
       "      <td>15.818625</td>\n",
       "      <td>4.169775</td>\n",
       "      <td>30.0</td>\n",
       "      <td>0.0</td>\n",
       "    </tr>\n",
       "  </tbody>\n",
       "</table>\n",
       "</div>"
      ],
      "text/plain": [
       "     t       cwnd      wmax     k  t_lastloss\n",
       "0  1.0  10.726070  4.169775  30.0         0.0\n",
       "1  2.0  12.142048  4.169775  30.0         0.0\n",
       "2  3.0  13.560068  4.169775  30.0         0.0\n",
       "3  4.0  14.772302  4.169775  30.0         0.0\n",
       "4  5.0  15.818625  4.169775  30.0         0.0"
      ]
     },
     "execution_count": 4,
     "metadata": {},
     "output_type": "execute_result"
    }
   ],
   "source": [
    "df11.head()"
   ]
  },
  {
   "cell_type": "code",
   "execution_count": 5,
   "id": "6b32975c",
   "metadata": {},
   "outputs": [
    {
     "data": {
      "text/html": [
       "<div>\n",
       "<style scoped>\n",
       "    .dataframe tbody tr th:only-of-type {\n",
       "        vertical-align: middle;\n",
       "    }\n",
       "\n",
       "    .dataframe tbody tr th {\n",
       "        vertical-align: top;\n",
       "    }\n",
       "\n",
       "    .dataframe thead th {\n",
       "        text-align: right;\n",
       "    }\n",
       "</style>\n",
       "<table border=\"1\" class=\"dataframe\">\n",
       "  <thead>\n",
       "    <tr style=\"text-align: right;\">\n",
       "      <th></th>\n",
       "      <th>round</th>\n",
       "      <th>message</th>\n",
       "    </tr>\n",
       "  </thead>\n",
       "  <tbody>\n",
       "    <tr>\n",
       "      <th>0</th>\n",
       "      <td>1</td>\n",
       "      <td>Cubic Function</td>\n",
       "    </tr>\n",
       "    <tr>\n",
       "      <th>1</th>\n",
       "      <td>1</td>\n",
       "      <td>k: 4.169775457701303</td>\n",
       "    </tr>\n",
       "    <tr>\n",
       "      <th>2</th>\n",
       "      <td>1</td>\n",
       "      <td>time_since_loss: 1, target_cwnd: 17.2607022919...</td>\n",
       "    </tr>\n",
       "    <tr>\n",
       "      <th>3</th>\n",
       "      <td>1</td>\n",
       "      <td>cwnd(10): &lt; target_cwnd(17.260702291936177)</td>\n",
       "    </tr>\n",
       "    <tr>\n",
       "      <th>4</th>\n",
       "      <td>1</td>\n",
       "      <td>Cubic Increase</td>\n",
       "    </tr>\n",
       "  </tbody>\n",
       "</table>\n",
       "</div>"
      ],
      "text/plain": [
       "   round                                            message\n",
       "0      1                                     Cubic Function\n",
       "1      1                               k: 4.169775457701303\n",
       "2      1  time_since_loss: 1, target_cwnd: 17.2607022919...\n",
       "3      1        cwnd(10): < target_cwnd(17.260702291936177)\n",
       "4      1                                     Cubic Increase"
      ]
     },
     "execution_count": 5,
     "metadata": {},
     "output_type": "execute_result"
    }
   ],
   "source": [
    "df12.head()"
   ]
  },
  {
   "cell_type": "code",
   "execution_count": 6,
   "id": "f90401f4",
   "metadata": {},
   "outputs": [],
   "source": [
    "df21 = pd.read_csv('cubic_tcp_parameters2.csv')\n",
    "\n",
    "df22 = pd.read_csv('log2.log', delimiter='--', engine='python', names=['round', 'message'])\n",
    "df22['round'] = df22['round'].astype(int)\n",
    "df22['message'] = df22['message'].astype(str).apply(str.strip)"
   ]
  },
  {
   "cell_type": "code",
   "execution_count": 7,
   "id": "bd1c4e34",
   "metadata": {},
   "outputs": [
    {
     "data": {
      "text/html": [
       "<div>\n",
       "<style scoped>\n",
       "    .dataframe tbody tr th:only-of-type {\n",
       "        vertical-align: middle;\n",
       "    }\n",
       "\n",
       "    .dataframe tbody tr th {\n",
       "        vertical-align: top;\n",
       "    }\n",
       "\n",
       "    .dataframe thead th {\n",
       "        text-align: right;\n",
       "    }\n",
       "</style>\n",
       "<table border=\"1\" class=\"dataframe\">\n",
       "  <thead>\n",
       "    <tr style=\"text-align: right;\">\n",
       "      <th></th>\n",
       "      <th>t</th>\n",
       "      <th>cwnd</th>\n",
       "      <th>wmax</th>\n",
       "      <th>k</th>\n",
       "      <th>t_lastloss</th>\n",
       "    </tr>\n",
       "  </thead>\n",
       "  <tbody>\n",
       "    <tr>\n",
       "      <th>0</th>\n",
       "      <td>1.0</td>\n",
       "      <td>10.726070</td>\n",
       "      <td>4.169775</td>\n",
       "      <td>30.0</td>\n",
       "      <td>0.0</td>\n",
       "    </tr>\n",
       "    <tr>\n",
       "      <th>1</th>\n",
       "      <td>2.0</td>\n",
       "      <td>12.142048</td>\n",
       "      <td>4.169775</td>\n",
       "      <td>30.0</td>\n",
       "      <td>0.0</td>\n",
       "    </tr>\n",
       "    <tr>\n",
       "      <th>2</th>\n",
       "      <td>3.0</td>\n",
       "      <td>13.560068</td>\n",
       "      <td>4.169775</td>\n",
       "      <td>30.0</td>\n",
       "      <td>0.0</td>\n",
       "    </tr>\n",
       "    <tr>\n",
       "      <th>3</th>\n",
       "      <td>4.0</td>\n",
       "      <td>14.772302</td>\n",
       "      <td>4.169775</td>\n",
       "      <td>30.0</td>\n",
       "      <td>0.0</td>\n",
       "    </tr>\n",
       "    <tr>\n",
       "      <th>4</th>\n",
       "      <td>5.0</td>\n",
       "      <td>15.818625</td>\n",
       "      <td>4.169775</td>\n",
       "      <td>30.0</td>\n",
       "      <td>0.0</td>\n",
       "    </tr>\n",
       "  </tbody>\n",
       "</table>\n",
       "</div>"
      ],
      "text/plain": [
       "     t       cwnd      wmax     k  t_lastloss\n",
       "0  1.0  10.726070  4.169775  30.0         0.0\n",
       "1  2.0  12.142048  4.169775  30.0         0.0\n",
       "2  3.0  13.560068  4.169775  30.0         0.0\n",
       "3  4.0  14.772302  4.169775  30.0         0.0\n",
       "4  5.0  15.818625  4.169775  30.0         0.0"
      ]
     },
     "execution_count": 7,
     "metadata": {},
     "output_type": "execute_result"
    }
   ],
   "source": [
    "df21.head()"
   ]
  },
  {
   "cell_type": "code",
   "execution_count": 8,
   "id": "e5f3ac33",
   "metadata": {},
   "outputs": [
    {
     "data": {
      "text/html": [
       "<div>\n",
       "<style scoped>\n",
       "    .dataframe tbody tr th:only-of-type {\n",
       "        vertical-align: middle;\n",
       "    }\n",
       "\n",
       "    .dataframe tbody tr th {\n",
       "        vertical-align: top;\n",
       "    }\n",
       "\n",
       "    .dataframe thead th {\n",
       "        text-align: right;\n",
       "    }\n",
       "</style>\n",
       "<table border=\"1\" class=\"dataframe\">\n",
       "  <thead>\n",
       "    <tr style=\"text-align: right;\">\n",
       "      <th></th>\n",
       "      <th>round</th>\n",
       "      <th>message</th>\n",
       "    </tr>\n",
       "  </thead>\n",
       "  <tbody>\n",
       "    <tr>\n",
       "      <th>0</th>\n",
       "      <td>1</td>\n",
       "      <td>Cubic Function</td>\n",
       "    </tr>\n",
       "    <tr>\n",
       "      <th>1</th>\n",
       "      <td>1</td>\n",
       "      <td>k: 4.169775457701303</td>\n",
       "    </tr>\n",
       "    <tr>\n",
       "      <th>2</th>\n",
       "      <td>1</td>\n",
       "      <td>time_since_loss: 1, target_cwnd: 17.2607022919...</td>\n",
       "    </tr>\n",
       "    <tr>\n",
       "      <th>3</th>\n",
       "      <td>1</td>\n",
       "      <td>cwnd(10): &lt; target_cwnd(17.260702291936177)</td>\n",
       "    </tr>\n",
       "    <tr>\n",
       "      <th>4</th>\n",
       "      <td>1</td>\n",
       "      <td>Cubic Increase</td>\n",
       "    </tr>\n",
       "  </tbody>\n",
       "</table>\n",
       "</div>"
      ],
      "text/plain": [
       "   round                                            message\n",
       "0      1                                     Cubic Function\n",
       "1      1                               k: 4.169775457701303\n",
       "2      1  time_since_loss: 1, target_cwnd: 17.2607022919...\n",
       "3      1        cwnd(10): < target_cwnd(17.260702291936177)\n",
       "4      1                                     Cubic Increase"
      ]
     },
     "execution_count": 8,
     "metadata": {},
     "output_type": "execute_result"
    }
   ],
   "source": [
    "df22.head()"
   ]
  },
  {
   "cell_type": "markdown",
   "id": "2d874bdb",
   "metadata": {},
   "source": [
    "#### NOTE:\n",
    "- df11, df21 contain tcp values at the end of each round(RTT).\n",
    "- df12, df22 contain Cubic TCP logs in 1000 round(RTT).\n",
    "- in the first simulation (df11, df12) everything was normal.\n",
    "- in the second simulation (df21, df22) there was more packet loss."
   ]
  },
  {
   "cell_type": "markdown",
   "id": "34139a74",
   "metadata": {},
   "source": [
    "### Get Certain Rounds Info\n",
    "simply just change the n and see the results."
   ]
  },
  {
   "cell_type": "markdown",
   "id": "f9ea73b1",
   "metadata": {},
   "source": [
    "#### - Cubic TCP parameters data at the end of round n"
   ]
  },
  {
   "cell_type": "code",
   "execution_count": 9,
   "id": "76df6aef",
   "metadata": {},
   "outputs": [],
   "source": [
    "n = 1"
   ]
  },
  {
   "cell_type": "code",
   "execution_count": 10,
   "id": "197c4c3c",
   "metadata": {
    "scrolled": true
   },
   "outputs": [
    {
     "data": {
      "text/html": [
       "<div>\n",
       "<style scoped>\n",
       "    .dataframe tbody tr th:only-of-type {\n",
       "        vertical-align: middle;\n",
       "    }\n",
       "\n",
       "    .dataframe tbody tr th {\n",
       "        vertical-align: top;\n",
       "    }\n",
       "\n",
       "    .dataframe thead th {\n",
       "        text-align: right;\n",
       "    }\n",
       "</style>\n",
       "<table border=\"1\" class=\"dataframe\">\n",
       "  <thead>\n",
       "    <tr style=\"text-align: right;\">\n",
       "      <th></th>\n",
       "      <th>t</th>\n",
       "      <th>cwnd</th>\n",
       "      <th>wmax</th>\n",
       "      <th>k</th>\n",
       "      <th>t_lastloss</th>\n",
       "    </tr>\n",
       "  </thead>\n",
       "  <tbody>\n",
       "    <tr>\n",
       "      <th>0</th>\n",
       "      <td>1.0</td>\n",
       "      <td>10.72607</td>\n",
       "      <td>4.169775</td>\n",
       "      <td>30.0</td>\n",
       "      <td>0.0</td>\n",
       "    </tr>\n",
       "  </tbody>\n",
       "</table>\n",
       "</div>"
      ],
      "text/plain": [
       "     t      cwnd      wmax     k  t_lastloss\n",
       "0  1.0  10.72607  4.169775  30.0         0.0"
      ]
     },
     "execution_count": 10,
     "metadata": {},
     "output_type": "execute_result"
    }
   ],
   "source": [
    "df11.loc[df11['t']== n]"
   ]
  },
  {
   "cell_type": "code",
   "execution_count": 11,
   "id": "deb62128",
   "metadata": {},
   "outputs": [
    {
     "data": {
      "text/html": [
       "<div>\n",
       "<style scoped>\n",
       "    .dataframe tbody tr th:only-of-type {\n",
       "        vertical-align: middle;\n",
       "    }\n",
       "\n",
       "    .dataframe tbody tr th {\n",
       "        vertical-align: top;\n",
       "    }\n",
       "\n",
       "    .dataframe thead th {\n",
       "        text-align: right;\n",
       "    }\n",
       "</style>\n",
       "<table border=\"1\" class=\"dataframe\">\n",
       "  <thead>\n",
       "    <tr style=\"text-align: right;\">\n",
       "      <th></th>\n",
       "      <th>t</th>\n",
       "      <th>cwnd</th>\n",
       "      <th>wmax</th>\n",
       "      <th>k</th>\n",
       "      <th>t_lastloss</th>\n",
       "    </tr>\n",
       "  </thead>\n",
       "  <tbody>\n",
       "    <tr>\n",
       "      <th>0</th>\n",
       "      <td>1.0</td>\n",
       "      <td>10.72607</td>\n",
       "      <td>4.169775</td>\n",
       "      <td>30.0</td>\n",
       "      <td>0.0</td>\n",
       "    </tr>\n",
       "  </tbody>\n",
       "</table>\n",
       "</div>"
      ],
      "text/plain": [
       "     t      cwnd      wmax     k  t_lastloss\n",
       "0  1.0  10.72607  4.169775  30.0         0.0"
      ]
     },
     "execution_count": 11,
     "metadata": {},
     "output_type": "execute_result"
    }
   ],
   "source": [
    "df21.loc[df21['t']== n]"
   ]
  },
  {
   "cell_type": "markdown",
   "id": "2d581ea5",
   "metadata": {},
   "source": [
    "#### - Bic TCP logs at round n"
   ]
  },
  {
   "cell_type": "code",
   "execution_count": 12,
   "id": "719744cb",
   "metadata": {},
   "outputs": [
    {
     "data": {
      "text/html": [
       "<div>\n",
       "<style scoped>\n",
       "    .dataframe tbody tr th:only-of-type {\n",
       "        vertical-align: middle;\n",
       "    }\n",
       "\n",
       "    .dataframe tbody tr th {\n",
       "        vertical-align: top;\n",
       "    }\n",
       "\n",
       "    .dataframe thead th {\n",
       "        text-align: right;\n",
       "    }\n",
       "</style>\n",
       "<table border=\"1\" class=\"dataframe\">\n",
       "  <thead>\n",
       "    <tr style=\"text-align: right;\">\n",
       "      <th></th>\n",
       "      <th>round</th>\n",
       "      <th>message</th>\n",
       "    </tr>\n",
       "  </thead>\n",
       "  <tbody>\n",
       "    <tr>\n",
       "      <th>0</th>\n",
       "      <td>1</td>\n",
       "      <td>Cubic Function</td>\n",
       "    </tr>\n",
       "    <tr>\n",
       "      <th>1</th>\n",
       "      <td>1</td>\n",
       "      <td>k: 4.169775457701303</td>\n",
       "    </tr>\n",
       "    <tr>\n",
       "      <th>2</th>\n",
       "      <td>1</td>\n",
       "      <td>time_since_loss: 1, target_cwnd: 17.2607022919...</td>\n",
       "    </tr>\n",
       "    <tr>\n",
       "      <th>3</th>\n",
       "      <td>1</td>\n",
       "      <td>cwnd(10): &lt; target_cwnd(17.260702291936177)</td>\n",
       "    </tr>\n",
       "    <tr>\n",
       "      <th>4</th>\n",
       "      <td>1</td>\n",
       "      <td>Cubic Increase</td>\n",
       "    </tr>\n",
       "    <tr>\n",
       "      <th>5</th>\n",
       "      <td>1</td>\n",
       "      <td>cwnd: 10.726070229193617</td>\n",
       "    </tr>\n",
       "  </tbody>\n",
       "</table>\n",
       "</div>"
      ],
      "text/plain": [
       "   round                                            message\n",
       "0      1                                     Cubic Function\n",
       "1      1                               k: 4.169775457701303\n",
       "2      1  time_since_loss: 1, target_cwnd: 17.2607022919...\n",
       "3      1        cwnd(10): < target_cwnd(17.260702291936177)\n",
       "4      1                                     Cubic Increase\n",
       "5      1                           cwnd: 10.726070229193617"
      ]
     },
     "execution_count": 12,
     "metadata": {},
     "output_type": "execute_result"
    }
   ],
   "source": [
    "df12.loc[df12['round']== n]"
   ]
  },
  {
   "cell_type": "code",
   "execution_count": 13,
   "id": "d364e7a6",
   "metadata": {},
   "outputs": [
    {
     "data": {
      "text/html": [
       "<div>\n",
       "<style scoped>\n",
       "    .dataframe tbody tr th:only-of-type {\n",
       "        vertical-align: middle;\n",
       "    }\n",
       "\n",
       "    .dataframe tbody tr th {\n",
       "        vertical-align: top;\n",
       "    }\n",
       "\n",
       "    .dataframe thead th {\n",
       "        text-align: right;\n",
       "    }\n",
       "</style>\n",
       "<table border=\"1\" class=\"dataframe\">\n",
       "  <thead>\n",
       "    <tr style=\"text-align: right;\">\n",
       "      <th></th>\n",
       "      <th>round</th>\n",
       "      <th>message</th>\n",
       "    </tr>\n",
       "  </thead>\n",
       "  <tbody>\n",
       "    <tr>\n",
       "      <th>0</th>\n",
       "      <td>1</td>\n",
       "      <td>Cubic Function</td>\n",
       "    </tr>\n",
       "    <tr>\n",
       "      <th>1</th>\n",
       "      <td>1</td>\n",
       "      <td>k: 4.169775457701303</td>\n",
       "    </tr>\n",
       "    <tr>\n",
       "      <th>2</th>\n",
       "      <td>1</td>\n",
       "      <td>time_since_loss: 1, target_cwnd: 17.2607022919...</td>\n",
       "    </tr>\n",
       "    <tr>\n",
       "      <th>3</th>\n",
       "      <td>1</td>\n",
       "      <td>cwnd(10): &lt; target_cwnd(17.260702291936177)</td>\n",
       "    </tr>\n",
       "    <tr>\n",
       "      <th>4</th>\n",
       "      <td>1</td>\n",
       "      <td>Cubic Increase</td>\n",
       "    </tr>\n",
       "    <tr>\n",
       "      <th>5</th>\n",
       "      <td>1</td>\n",
       "      <td>cwnd: 10.726070229193617</td>\n",
       "    </tr>\n",
       "  </tbody>\n",
       "</table>\n",
       "</div>"
      ],
      "text/plain": [
       "   round                                            message\n",
       "0      1                                     Cubic Function\n",
       "1      1                               k: 4.169775457701303\n",
       "2      1  time_since_loss: 1, target_cwnd: 17.2607022919...\n",
       "3      1        cwnd(10): < target_cwnd(17.260702291936177)\n",
       "4      1                                     Cubic Increase\n",
       "5      1                           cwnd: 10.726070229193617"
      ]
     },
     "execution_count": 13,
     "metadata": {},
     "output_type": "execute_result"
    }
   ],
   "source": [
    "df22.loc[df22['round']== n]"
   ]
  },
  {
   "cell_type": "markdown",
   "id": "a655e9be",
   "metadata": {},
   "source": [
    "### Descriptive Statistics of the first dataframe.\n",
    "without considering round column"
   ]
  },
  {
   "cell_type": "code",
   "execution_count": 14,
   "id": "184cdeae",
   "metadata": {},
   "outputs": [
    {
     "data": {
      "text/html": [
       "<div>\n",
       "<style scoped>\n",
       "    .dataframe tbody tr th:only-of-type {\n",
       "        vertical-align: middle;\n",
       "    }\n",
       "\n",
       "    .dataframe tbody tr th {\n",
       "        vertical-align: top;\n",
       "    }\n",
       "\n",
       "    .dataframe thead th {\n",
       "        text-align: right;\n",
       "    }\n",
       "</style>\n",
       "<table border=\"1\" class=\"dataframe\">\n",
       "  <thead>\n",
       "    <tr style=\"text-align: right;\">\n",
       "      <th></th>\n",
       "      <th>cwnd</th>\n",
       "      <th>wmax</th>\n",
       "      <th>k</th>\n",
       "      <th>t_lastloss</th>\n",
       "    </tr>\n",
       "  </thead>\n",
       "  <tbody>\n",
       "    <tr>\n",
       "      <th>count</th>\n",
       "      <td>1000.000000</td>\n",
       "      <td>1.000000e+03</td>\n",
       "      <td>1000.0</td>\n",
       "      <td>1000.000000</td>\n",
       "    </tr>\n",
       "    <tr>\n",
       "      <th>mean</th>\n",
       "      <td>3469.982522</td>\n",
       "      <td>4.169775e+00</td>\n",
       "      <td>30.0</td>\n",
       "      <td>427.191000</td>\n",
       "    </tr>\n",
       "    <tr>\n",
       "      <th>std</th>\n",
       "      <td>4187.786378</td>\n",
       "      <td>3.909941e-14</td>\n",
       "      <td>0.0</td>\n",
       "      <td>284.157724</td>\n",
       "    </tr>\n",
       "    <tr>\n",
       "      <th>min</th>\n",
       "      <td>10.726070</td>\n",
       "      <td>4.169775e+00</td>\n",
       "      <td>30.0</td>\n",
       "      <td>0.000000</td>\n",
       "    </tr>\n",
       "    <tr>\n",
       "      <th>25%</th>\n",
       "      <td>305.829311</td>\n",
       "      <td>4.169775e+00</td>\n",
       "      <td>30.0</td>\n",
       "      <td>244.000000</td>\n",
       "    </tr>\n",
       "    <tr>\n",
       "      <th>50%</th>\n",
       "      <td>1654.148615</td>\n",
       "      <td>4.169775e+00</td>\n",
       "      <td>30.0</td>\n",
       "      <td>375.000000</td>\n",
       "    </tr>\n",
       "    <tr>\n",
       "      <th>75%</th>\n",
       "      <td>5367.232538</td>\n",
       "      <td>4.169775e+00</td>\n",
       "      <td>30.0</td>\n",
       "      <td>580.000000</td>\n",
       "    </tr>\n",
       "    <tr>\n",
       "      <th>max</th>\n",
       "      <td>18120.907955</td>\n",
       "      <td>4.169775e+00</td>\n",
       "      <td>30.0</td>\n",
       "      <td>982.000000</td>\n",
       "    </tr>\n",
       "  </tbody>\n",
       "</table>\n",
       "</div>"
      ],
      "text/plain": [
       "               cwnd          wmax       k   t_lastloss\n",
       "count   1000.000000  1.000000e+03  1000.0  1000.000000\n",
       "mean    3469.982522  4.169775e+00    30.0   427.191000\n",
       "std     4187.786378  3.909941e-14     0.0   284.157724\n",
       "min       10.726070  4.169775e+00    30.0     0.000000\n",
       "25%      305.829311  4.169775e+00    30.0   244.000000\n",
       "50%     1654.148615  4.169775e+00    30.0   375.000000\n",
       "75%     5367.232538  4.169775e+00    30.0   580.000000\n",
       "max    18120.907955  4.169775e+00    30.0   982.000000"
      ]
     },
     "execution_count": 14,
     "metadata": {},
     "output_type": "execute_result"
    }
   ],
   "source": [
    "df11.iloc[:, 1:].describe()"
   ]
  },
  {
   "cell_type": "code",
   "execution_count": 15,
   "id": "5afc0a53",
   "metadata": {},
   "outputs": [
    {
     "data": {
      "text/html": [
       "<div>\n",
       "<style scoped>\n",
       "    .dataframe tbody tr th:only-of-type {\n",
       "        vertical-align: middle;\n",
       "    }\n",
       "\n",
       "    .dataframe tbody tr th {\n",
       "        vertical-align: top;\n",
       "    }\n",
       "\n",
       "    .dataframe thead th {\n",
       "        text-align: right;\n",
       "    }\n",
       "</style>\n",
       "<table border=\"1\" class=\"dataframe\">\n",
       "  <thead>\n",
       "    <tr style=\"text-align: right;\">\n",
       "      <th></th>\n",
       "      <th>cwnd</th>\n",
       "      <th>wmax</th>\n",
       "      <th>k</th>\n",
       "      <th>t_lastloss</th>\n",
       "    </tr>\n",
       "  </thead>\n",
       "  <tbody>\n",
       "    <tr>\n",
       "      <th>count</th>\n",
       "      <td>1000.000000</td>\n",
       "      <td>1.000000e+03</td>\n",
       "      <td>1000.0</td>\n",
       "      <td>1000.000000</td>\n",
       "    </tr>\n",
       "    <tr>\n",
       "      <th>mean</th>\n",
       "      <td>66.560011</td>\n",
       "      <td>4.169775e+00</td>\n",
       "      <td>30.0</td>\n",
       "      <td>489.971000</td>\n",
       "    </tr>\n",
       "    <tr>\n",
       "      <th>std</th>\n",
       "      <td>74.298308</td>\n",
       "      <td>3.909941e-14</td>\n",
       "      <td>0.0</td>\n",
       "      <td>289.405269</td>\n",
       "    </tr>\n",
       "    <tr>\n",
       "      <th>min</th>\n",
       "      <td>10.726070</td>\n",
       "      <td>4.169775e+00</td>\n",
       "      <td>30.0</td>\n",
       "      <td>0.000000</td>\n",
       "    </tr>\n",
       "    <tr>\n",
       "      <th>25%</th>\n",
       "      <td>19.631300</td>\n",
       "      <td>4.169775e+00</td>\n",
       "      <td>30.0</td>\n",
       "      <td>221.000000</td>\n",
       "    </tr>\n",
       "    <tr>\n",
       "      <th>50%</th>\n",
       "      <td>28.366034</td>\n",
       "      <td>4.169775e+00</td>\n",
       "      <td>30.0</td>\n",
       "      <td>485.000000</td>\n",
       "    </tr>\n",
       "    <tr>\n",
       "      <th>75%</th>\n",
       "      <td>83.703629</td>\n",
       "      <td>4.169775e+00</td>\n",
       "      <td>30.0</td>\n",
       "      <td>725.000000</td>\n",
       "    </tr>\n",
       "    <tr>\n",
       "      <th>max</th>\n",
       "      <td>385.995501</td>\n",
       "      <td>4.169775e+00</td>\n",
       "      <td>30.0</td>\n",
       "      <td>998.000000</td>\n",
       "    </tr>\n",
       "  </tbody>\n",
       "</table>\n",
       "</div>"
      ],
      "text/plain": [
       "              cwnd          wmax       k   t_lastloss\n",
       "count  1000.000000  1.000000e+03  1000.0  1000.000000\n",
       "mean     66.560011  4.169775e+00    30.0   489.971000\n",
       "std      74.298308  3.909941e-14     0.0   289.405269\n",
       "min      10.726070  4.169775e+00    30.0     0.000000\n",
       "25%      19.631300  4.169775e+00    30.0   221.000000\n",
       "50%      28.366034  4.169775e+00    30.0   485.000000\n",
       "75%      83.703629  4.169775e+00    30.0   725.000000\n",
       "max     385.995501  4.169775e+00    30.0   998.000000"
      ]
     },
     "execution_count": 15,
     "metadata": {},
     "output_type": "execute_result"
    }
   ],
   "source": [
    "df21.iloc[:, 1:].describe()"
   ]
  },
  {
   "cell_type": "markdown",
   "id": "26ad745f",
   "metadata": {},
   "source": [
    "### Get rounds where packet loss or timeout occured."
   ]
  },
  {
   "cell_type": "code",
   "execution_count": 17,
   "id": "b955fd70",
   "metadata": {},
   "outputs": [],
   "source": [
    "def get_packet_loss_rounds(df):\n",
    "    \"\"\"\n",
    "    it filters the given dataframe and make a list of the round numbers\n",
    "    and prints the len of list and the list.\n",
    "    \"\"\"\n",
    "    filtered_df = df.loc[df['message'] == 'PACKET LOSS']\n",
    "    rounds = filtered_df['round'].tolist()\n",
    "    print(len(rounds))\n",
    "    print(*rounds, sep=' ,') "
   ]
  },
  {
   "cell_type": "code",
   "execution_count": 18,
   "id": "22b79f6a",
   "metadata": {},
   "outputs": [
    {
     "name": "stdout",
     "output_type": "stream",
     "text": [
      "9\n",
      "146 ,193 ,244 ,375 ,580 ,776 ,845 ,982 ,1001\n"
     ]
    }
   ],
   "source": [
    "get_packet_loss_rounds(df12)"
   ]
  },
  {
   "cell_type": "code",
   "execution_count": 19,
   "id": "ad548f48",
   "metadata": {},
   "outputs": [
    {
     "name": "stdout",
     "output_type": "stream",
     "text": [
      "68\n",
      "32 ,35 ,54 ,61 ,93 ,114 ,116 ,134 ,145 ,176 ,200 ,202 ,220 ,221 ,254 ,270 ,294 ,297 ,298 ,323 ,326 ,333 ,333 ,364 ,375 ,391 ,392 ,404 ,408 ,415 ,429 ,433 ,450 ,480 ,485 ,515 ,524 ,533 ,541 ,570 ,579 ,604 ,632 ,653 ,673 ,699 ,723 ,725 ,753 ,764 ,781 ,807 ,808 ,826 ,859 ,862 ,878 ,893 ,904 ,917 ,918 ,946 ,967 ,972 ,981 ,998 ,998 ,1001\n"
     ]
    }
   ],
   "source": [
    "get_packet_loss_rounds(df22)"
   ]
  },
  {
   "cell_type": "markdown",
   "id": "eb43c24d",
   "metadata": {},
   "source": [
    "### Plotting Cubic TCP parameters over time."
   ]
  },
  {
   "cell_type": "code",
   "execution_count": 20,
   "id": "3344996c",
   "metadata": {},
   "outputs": [],
   "source": [
    "def plot_parameters_vs_rounds(df, parameters):\n",
    "    \"\"\"\n",
    "    it makes one figure and axes with len of parameters.\n",
    "    one by one the plot color changes from green to blue.\n",
    "    and if the given parameter is not valid it pass and checks other parameters.\n",
    "    \n",
    "    args:\n",
    "         -df: dataframe\n",
    "         -parameters: list of tcp parmaeters to plot.\n",
    "    \"\"\"\n",
    "    columns_number = len(parameters)\n",
    "    fig, axs = plt.subplots(columns_number, 1, figsize=(15 , 18))\n",
    "    for i in range(len(parameters)):\n",
    "        parameter = parameters[i]\n",
    "        if parameter not in df:\n",
    "            continue\n",
    "        axs[i].plot(df['t'], df[parameter], label=parameter, color='green' if i % 2 == 0 else 'blue')\n",
    "        axs[i].set_xlabel('Round Number')\n",
    "        axs[i].set_ylabel(parameter)\n",
    "        axs[i].set_title(f'{parameter} Evolution')\n",
    "        axs[i].grid(True)\n",
    "        axs[i].legend()"
   ]
  },
  {
   "cell_type": "code",
   "execution_count": 21,
   "id": "b9917a4a",
   "metadata": {
    "scrolled": false
   },
   "outputs": [
    {
     "data": {
      "text/html": [
       "<div>\n",
       "<style scoped>\n",
       "    .dataframe tbody tr th:only-of-type {\n",
       "        vertical-align: middle;\n",
       "    }\n",
       "\n",
       "    .dataframe tbody tr th {\n",
       "        vertical-align: top;\n",
       "    }\n",
       "\n",
       "    .dataframe thead th {\n",
       "        text-align: right;\n",
       "    }\n",
       "</style>\n",
       "<table border=\"1\" class=\"dataframe\">\n",
       "  <thead>\n",
       "    <tr style=\"text-align: right;\">\n",
       "      <th></th>\n",
       "      <th>t</th>\n",
       "      <th>cwnd</th>\n",
       "      <th>wmax</th>\n",
       "      <th>k</th>\n",
       "      <th>t_lastloss</th>\n",
       "    </tr>\n",
       "  </thead>\n",
       "  <tbody>\n",
       "    <tr>\n",
       "      <th>0</th>\n",
       "      <td>1.0</td>\n",
       "      <td>10.726070</td>\n",
       "      <td>4.169775</td>\n",
       "      <td>30.0</td>\n",
       "      <td>0.0</td>\n",
       "    </tr>\n",
       "    <tr>\n",
       "      <th>1</th>\n",
       "      <td>2.0</td>\n",
       "      <td>12.142048</td>\n",
       "      <td>4.169775</td>\n",
       "      <td>30.0</td>\n",
       "      <td>0.0</td>\n",
       "    </tr>\n",
       "    <tr>\n",
       "      <th>2</th>\n",
       "      <td>3.0</td>\n",
       "      <td>13.560068</td>\n",
       "      <td>4.169775</td>\n",
       "      <td>30.0</td>\n",
       "      <td>0.0</td>\n",
       "    </tr>\n",
       "    <tr>\n",
       "      <th>3</th>\n",
       "      <td>4.0</td>\n",
       "      <td>14.772302</td>\n",
       "      <td>4.169775</td>\n",
       "      <td>30.0</td>\n",
       "      <td>0.0</td>\n",
       "    </tr>\n",
       "    <tr>\n",
       "      <th>4</th>\n",
       "      <td>5.0</td>\n",
       "      <td>15.818625</td>\n",
       "      <td>4.169775</td>\n",
       "      <td>30.0</td>\n",
       "      <td>0.0</td>\n",
       "    </tr>\n",
       "    <tr>\n",
       "      <th>...</th>\n",
       "      <td>...</td>\n",
       "      <td>...</td>\n",
       "      <td>...</td>\n",
       "      <td>...</td>\n",
       "      <td>...</td>\n",
       "    </tr>\n",
       "    <tr>\n",
       "      <th>995</th>\n",
       "      <td>996.0</td>\n",
       "      <td>53.559800</td>\n",
       "      <td>4.169775</td>\n",
       "      <td>30.0</td>\n",
       "      <td>982.0</td>\n",
       "    </tr>\n",
       "    <tr>\n",
       "      <th>996</th>\n",
       "      <td>997.0</td>\n",
       "      <td>62.607021</td>\n",
       "      <td>4.169775</td>\n",
       "      <td>30.0</td>\n",
       "      <td>982.0</td>\n",
       "    </tr>\n",
       "    <tr>\n",
       "      <th>997</th>\n",
       "      <td>998.0</td>\n",
       "      <td>72.664501</td>\n",
       "      <td>4.169775</td>\n",
       "      <td>30.0</td>\n",
       "      <td>982.0</td>\n",
       "    </tr>\n",
       "    <tr>\n",
       "      <th>998</th>\n",
       "      <td>999.0</td>\n",
       "      <td>83.703629</td>\n",
       "      <td>4.169775</td>\n",
       "      <td>30.0</td>\n",
       "      <td>982.0</td>\n",
       "    </tr>\n",
       "    <tr>\n",
       "      <th>999</th>\n",
       "      <td>1000.0</td>\n",
       "      <td>95.703676</td>\n",
       "      <td>4.169775</td>\n",
       "      <td>30.0</td>\n",
       "      <td>982.0</td>\n",
       "    </tr>\n",
       "  </tbody>\n",
       "</table>\n",
       "<p>1000 rows × 5 columns</p>\n",
       "</div>"
      ],
      "text/plain": [
       "          t       cwnd      wmax     k  t_lastloss\n",
       "0       1.0  10.726070  4.169775  30.0         0.0\n",
       "1       2.0  12.142048  4.169775  30.0         0.0\n",
       "2       3.0  13.560068  4.169775  30.0         0.0\n",
       "3       4.0  14.772302  4.169775  30.0         0.0\n",
       "4       5.0  15.818625  4.169775  30.0         0.0\n",
       "..      ...        ...       ...   ...         ...\n",
       "995   996.0  53.559800  4.169775  30.0       982.0\n",
       "996   997.0  62.607021  4.169775  30.0       982.0\n",
       "997   998.0  72.664501  4.169775  30.0       982.0\n",
       "998   999.0  83.703629  4.169775  30.0       982.0\n",
       "999  1000.0  95.703676  4.169775  30.0       982.0\n",
       "\n",
       "[1000 rows x 5 columns]"
      ]
     },
     "execution_count": 21,
     "metadata": {},
     "output_type": "execute_result"
    }
   ],
   "source": [
    "df11"
   ]
  },
  {
   "cell_type": "code",
   "execution_count": 22,
   "id": "3b8af3fa",
   "metadata": {},
   "outputs": [],
   "source": [
    "parameters = ['cwnd', 'wmax', 'k']"
   ]
  },
  {
   "cell_type": "code",
   "execution_count": 23,
   "id": "1f25bec4",
   "metadata": {
    "scrolled": false
   },
   "outputs": [
    {
     "data": {
      "image/png": "[encoded data removed]",
      "text/plain": [
       "<Figure size 1080x1296 with 3 Axes>"
      ]
     },
     "metadata": {
      "needs_background": "light"
     },
     "output_type": "display_data"
    }
   ],
   "source": [
    "plot_parameters_vs_rounds(df11, parameters)"
   ]
  },
  {
   "cell_type": "code",
   "execution_count": 24,
   "id": "5393767f",
   "metadata": {},
   "outputs": [
    {
     "data": {
      "image/png": "[encoded data removed]",
      "text/plain": [
       "<Figure size 1080x1296 with 3 Axes>"
      ]
     },
     "metadata": {
      "needs_background": "light"
     },
     "output_type": "display_data"
    }
   ],
   "source": [
    "plot_parameters_vs_rounds(df21, parameters)"
   ]
  }
 ],
 "metadata": {
  "kernelspec": {
   "display_name": "Python 3 (ipykernel)",
   "language": "python",
   "name": "python3"
  },
  "language_info": {
   "codemirror_mode": {
    "name": "ipython",
    "version": 3
   },
   "file_extension": ".py",
   "mimetype": "text/x-python",
   "name": "python",
   "nbconvert_exporter": "python",
   "pygments_lexer": "ipython3",
   "version": "3.9.12"
  }
 },
 "nbformat": 4,
 "nbformat_minor": 5
}
