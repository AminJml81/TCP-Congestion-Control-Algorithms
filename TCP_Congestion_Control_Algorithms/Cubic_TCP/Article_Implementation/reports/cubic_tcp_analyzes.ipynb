{
 "cells": [
  {
   "cell_type": "markdown",
   "id": "f7143589",
   "metadata": {},
   "source": [
    "# Cubic TCP Simulation Analyzes"
   ]
  },
  {
   "cell_type": "markdown",
   "id": "9fc06fdb",
   "metadata": {},
   "source": [
    "Four simulations were done.\n",
    "- in the first simulation everything was normal.\n",
    "- in the second simulation there was more packet loss.\n",
    "- in the third simulation there was more timeout.\n",
    "- in the fourth simulation there was more both packet loss and timeout.\n",
    "\n",
    "\n",
    "Threading was used to simulate packet loss and timeout which waits for random number and then their actions get executed."
   ]
  },
  {
   "cell_type": "markdown",
   "id": "d247543e",
   "metadata": {},
   "source": [
    "### importing necessary libraries"
   ]
  },
  {
   "cell_type": "code",
   "execution_count": 4,
   "id": "33d87702",
   "metadata": {},
   "outputs": [],
   "source": [
    "import pandas as pd\n",
    "import matplotlib.pyplot as plt"
   ]
  },
  {
   "cell_type": "markdown",
   "id": "73769194",
   "metadata": {},
   "source": [
    "### Reading Data"
   ]
  },
  {
   "cell_type": "code",
   "execution_count": 7,
   "id": "c55f5483",
   "metadata": {},
   "outputs": [],
   "source": [
    "df11 = pd.read_csv('cubic_tcp_parameters1.csv')\n",
    "\n",
    "df12 = pd.read_csv('log1.log', delimiter='--', engine='python', names=['round', 'message'])\n",
    "df12['round'] = df12['round'].astype(int)\n",
    "df12['message'] = df12['message'].astype(str).apply(str.strip)"
   ]
  },
  {
   "cell_type": "code",
   "execution_count": 8,
   "id": "31f910b9",
   "metadata": {
    "scrolled": true
   },
   "outputs": [
    {
     "data": {
      "text/html": [
       "<div>\n",
       "<style scoped>\n",
       "    .dataframe tbody tr th:only-of-type {\n",
       "        vertical-align: middle;\n",
       "    }\n",
       "\n",
       "    .dataframe tbody tr th {\n",
       "        vertical-align: top;\n",
       "    }\n",
       "\n",
       "    .dataframe thead th {\n",
       "        text-align: right;\n",
       "    }\n",
       "</style>\n",
       "<table border=\"1\" class=\"dataframe\">\n",
       "  <thead>\n",
       "    <tr style=\"text-align: right;\">\n",
       "      <th></th>\n",
       "      <th>round</th>\n",
       "      <th>cwnd</th>\n",
       "      <th>wlast_max</th>\n",
       "      <th>wtcp</th>\n",
       "      <th>epoch_start</th>\n",
       "      <th>origin_point</th>\n",
       "      <th>dMin</th>\n",
       "      <th>ack_cnt</th>\n",
       "    </tr>\n",
       "  </thead>\n",
       "  <tbody>\n",
       "    <tr>\n",
       "      <th>0</th>\n",
       "      <td>1.0</td>\n",
       "      <td>11.0</td>\n",
       "      <td>30.0</td>\n",
       "      <td>0.0</td>\n",
       "      <td>0.0</td>\n",
       "      <td>0.0</td>\n",
       "      <td>0.709820</td>\n",
       "      <td>0.0</td>\n",
       "    </tr>\n",
       "    <tr>\n",
       "      <th>1</th>\n",
       "      <td>2.0</td>\n",
       "      <td>12.0</td>\n",
       "      <td>30.0</td>\n",
       "      <td>0.0</td>\n",
       "      <td>0.0</td>\n",
       "      <td>0.0</td>\n",
       "      <td>0.179648</td>\n",
       "      <td>0.0</td>\n",
       "    </tr>\n",
       "    <tr>\n",
       "      <th>2</th>\n",
       "      <td>3.0</td>\n",
       "      <td>13.0</td>\n",
       "      <td>30.0</td>\n",
       "      <td>0.0</td>\n",
       "      <td>0.0</td>\n",
       "      <td>0.0</td>\n",
       "      <td>0.179648</td>\n",
       "      <td>0.0</td>\n",
       "    </tr>\n",
       "    <tr>\n",
       "      <th>3</th>\n",
       "      <td>4.0</td>\n",
       "      <td>14.0</td>\n",
       "      <td>30.0</td>\n",
       "      <td>0.0</td>\n",
       "      <td>0.0</td>\n",
       "      <td>0.0</td>\n",
       "      <td>0.132391</td>\n",
       "      <td>0.0</td>\n",
       "    </tr>\n",
       "    <tr>\n",
       "      <th>4</th>\n",
       "      <td>5.0</td>\n",
       "      <td>15.0</td>\n",
       "      <td>30.0</td>\n",
       "      <td>0.0</td>\n",
       "      <td>0.0</td>\n",
       "      <td>0.0</td>\n",
       "      <td>0.132391</td>\n",
       "      <td>0.0</td>\n",
       "    </tr>\n",
       "  </tbody>\n",
       "</table>\n",
       "</div>"
      ],
      "text/plain": [
       "   round  cwnd  wlast_max  wtcp  epoch_start  origin_point      dMin  ack_cnt\n",
       "0    1.0  11.0       30.0   0.0          0.0           0.0  0.709820      0.0\n",
       "1    2.0  12.0       30.0   0.0          0.0           0.0  0.179648      0.0\n",
       "2    3.0  13.0       30.0   0.0          0.0           0.0  0.179648      0.0\n",
       "3    4.0  14.0       30.0   0.0          0.0           0.0  0.132391      0.0\n",
       "4    5.0  15.0       30.0   0.0          0.0           0.0  0.132391      0.0"
      ]
     },
     "execution_count": 8,
     "metadata": {},
     "output_type": "execute_result"
    }
   ],
   "source": [
    "df11.head()"
   ]
  },
  {
   "cell_type": "code",
   "execution_count": 9,
   "id": "4fa27f71",
   "metadata": {},
   "outputs": [
    {
     "data": {
      "text/html": [
       "<div>\n",
       "<style scoped>\n",
       "    .dataframe tbody tr th:only-of-type {\n",
       "        vertical-align: middle;\n",
       "    }\n",
       "\n",
       "    .dataframe tbody tr th {\n",
       "        vertical-align: top;\n",
       "    }\n",
       "\n",
       "    .dataframe thead th {\n",
       "        text-align: right;\n",
       "    }\n",
       "</style>\n",
       "<table border=\"1\" class=\"dataframe\">\n",
       "  <thead>\n",
       "    <tr style=\"text-align: right;\">\n",
       "      <th></th>\n",
       "      <th>round</th>\n",
       "      <th>message</th>\n",
       "    </tr>\n",
       "  </thead>\n",
       "  <tbody>\n",
       "    <tr>\n",
       "      <th>0</th>\n",
       "      <td>1</td>\n",
       "      <td>dmin: 0.7098201309872537</td>\n",
       "    </tr>\n",
       "    <tr>\n",
       "      <th>1</th>\n",
       "      <td>1</td>\n",
       "      <td>cnwd(10) &lt; ssthresh(30)</td>\n",
       "    </tr>\n",
       "    <tr>\n",
       "      <th>2</th>\n",
       "      <td>1</td>\n",
       "      <td>cnwd: 11</td>\n",
       "    </tr>\n",
       "    <tr>\n",
       "      <th>3</th>\n",
       "      <td>2</td>\n",
       "      <td>dmin: 0.17964847051468535</td>\n",
       "    </tr>\n",
       "    <tr>\n",
       "      <th>4</th>\n",
       "      <td>2</td>\n",
       "      <td>cnwd(11) &lt; ssthresh(30)</td>\n",
       "    </tr>\n",
       "  </tbody>\n",
       "</table>\n",
       "</div>"
      ],
      "text/plain": [
       "   round                    message\n",
       "0      1   dmin: 0.7098201309872537\n",
       "1      1    cnwd(10) < ssthresh(30)\n",
       "2      1                   cnwd: 11\n",
       "3      2  dmin: 0.17964847051468535\n",
       "4      2    cnwd(11) < ssthresh(30)"
      ]
     },
     "execution_count": 9,
     "metadata": {},
     "output_type": "execute_result"
    }
   ],
   "source": [
    "df12.head()"
   ]
  },
  {
   "cell_type": "code",
   "execution_count": 10,
   "id": "fa14cab8",
   "metadata": {},
   "outputs": [],
   "source": [
    "df21 = pd.read_csv('cubic_tcp_parameters2.csv')\n",
    "\n",
    "df22 = pd.read_csv('log2.log', delimiter='--', engine='python', names=['round', 'message'])\n",
    "df22['round'] = df22['round'].astype(int)\n",
    "df22['message'] = df22['message'].astype(str).apply(str.strip)"
   ]
  },
  {
   "cell_type": "code",
   "execution_count": 11,
   "id": "f1aecdda",
   "metadata": {},
   "outputs": [
    {
     "data": {
      "text/html": [
       "<div>\n",
       "<style scoped>\n",
       "    .dataframe tbody tr th:only-of-type {\n",
       "        vertical-align: middle;\n",
       "    }\n",
       "\n",
       "    .dataframe tbody tr th {\n",
       "        vertical-align: top;\n",
       "    }\n",
       "\n",
       "    .dataframe thead th {\n",
       "        text-align: right;\n",
       "    }\n",
       "</style>\n",
       "<table border=\"1\" class=\"dataframe\">\n",
       "  <thead>\n",
       "    <tr style=\"text-align: right;\">\n",
       "      <th></th>\n",
       "      <th>round</th>\n",
       "      <th>cwnd</th>\n",
       "      <th>wlast_max</th>\n",
       "      <th>wtcp</th>\n",
       "      <th>epoch_start</th>\n",
       "      <th>origin_point</th>\n",
       "      <th>dMin</th>\n",
       "      <th>ack_cnt</th>\n",
       "    </tr>\n",
       "  </thead>\n",
       "  <tbody>\n",
       "    <tr>\n",
       "      <th>0</th>\n",
       "      <td>1.0</td>\n",
       "      <td>11.0</td>\n",
       "      <td>30.0</td>\n",
       "      <td>0.0</td>\n",
       "      <td>0.0</td>\n",
       "      <td>0.0</td>\n",
       "      <td>0.229977</td>\n",
       "      <td>0.0</td>\n",
       "    </tr>\n",
       "    <tr>\n",
       "      <th>1</th>\n",
       "      <td>2.0</td>\n",
       "      <td>12.0</td>\n",
       "      <td>30.0</td>\n",
       "      <td>0.0</td>\n",
       "      <td>0.0</td>\n",
       "      <td>0.0</td>\n",
       "      <td>0.229977</td>\n",
       "      <td>0.0</td>\n",
       "    </tr>\n",
       "    <tr>\n",
       "      <th>2</th>\n",
       "      <td>3.0</td>\n",
       "      <td>13.0</td>\n",
       "      <td>30.0</td>\n",
       "      <td>0.0</td>\n",
       "      <td>0.0</td>\n",
       "      <td>0.0</td>\n",
       "      <td>0.187379</td>\n",
       "      <td>0.0</td>\n",
       "    </tr>\n",
       "    <tr>\n",
       "      <th>3</th>\n",
       "      <td>4.0</td>\n",
       "      <td>14.0</td>\n",
       "      <td>30.0</td>\n",
       "      <td>0.0</td>\n",
       "      <td>0.0</td>\n",
       "      <td>0.0</td>\n",
       "      <td>0.187379</td>\n",
       "      <td>0.0</td>\n",
       "    </tr>\n",
       "    <tr>\n",
       "      <th>4</th>\n",
       "      <td>5.0</td>\n",
       "      <td>15.0</td>\n",
       "      <td>30.0</td>\n",
       "      <td>0.0</td>\n",
       "      <td>0.0</td>\n",
       "      <td>0.0</td>\n",
       "      <td>0.187379</td>\n",
       "      <td>0.0</td>\n",
       "    </tr>\n",
       "  </tbody>\n",
       "</table>\n",
       "</div>"
      ],
      "text/plain": [
       "   round  cwnd  wlast_max  wtcp  epoch_start  origin_point      dMin  ack_cnt\n",
       "0    1.0  11.0       30.0   0.0          0.0           0.0  0.229977      0.0\n",
       "1    2.0  12.0       30.0   0.0          0.0           0.0  0.229977      0.0\n",
       "2    3.0  13.0       30.0   0.0          0.0           0.0  0.187379      0.0\n",
       "3    4.0  14.0       30.0   0.0          0.0           0.0  0.187379      0.0\n",
       "4    5.0  15.0       30.0   0.0          0.0           0.0  0.187379      0.0"
      ]
     },
     "execution_count": 11,
     "metadata": {},
     "output_type": "execute_result"
    }
   ],
   "source": [
    "df21.head()"
   ]
  },
  {
   "cell_type": "code",
   "execution_count": 12,
   "id": "3a749025",
   "metadata": {},
   "outputs": [
    {
     "data": {
      "text/html": [
       "<div>\n",
       "<style scoped>\n",
       "    .dataframe tbody tr th:only-of-type {\n",
       "        vertical-align: middle;\n",
       "    }\n",
       "\n",
       "    .dataframe tbody tr th {\n",
       "        vertical-align: top;\n",
       "    }\n",
       "\n",
       "    .dataframe thead th {\n",
       "        text-align: right;\n",
       "    }\n",
       "</style>\n",
       "<table border=\"1\" class=\"dataframe\">\n",
       "  <thead>\n",
       "    <tr style=\"text-align: right;\">\n",
       "      <th></th>\n",
       "      <th>round</th>\n",
       "      <th>message</th>\n",
       "    </tr>\n",
       "  </thead>\n",
       "  <tbody>\n",
       "    <tr>\n",
       "      <th>0</th>\n",
       "      <td>1</td>\n",
       "      <td>dmin: 0.22997693701376365</td>\n",
       "    </tr>\n",
       "    <tr>\n",
       "      <th>1</th>\n",
       "      <td>1</td>\n",
       "      <td>cnwd(10) &lt; ssthresh(30)</td>\n",
       "    </tr>\n",
       "    <tr>\n",
       "      <th>2</th>\n",
       "      <td>1</td>\n",
       "      <td>cnwd: 11</td>\n",
       "    </tr>\n",
       "    <tr>\n",
       "      <th>3</th>\n",
       "      <td>2</td>\n",
       "      <td>dmin: 0.22997693701376365</td>\n",
       "    </tr>\n",
       "    <tr>\n",
       "      <th>4</th>\n",
       "      <td>2</td>\n",
       "      <td>cnwd(11) &lt; ssthresh(30)</td>\n",
       "    </tr>\n",
       "  </tbody>\n",
       "</table>\n",
       "</div>"
      ],
      "text/plain": [
       "   round                    message\n",
       "0      1  dmin: 0.22997693701376365\n",
       "1      1    cnwd(10) < ssthresh(30)\n",
       "2      1                   cnwd: 11\n",
       "3      2  dmin: 0.22997693701376365\n",
       "4      2    cnwd(11) < ssthresh(30)"
      ]
     },
     "execution_count": 12,
     "metadata": {},
     "output_type": "execute_result"
    }
   ],
   "source": [
    "df22.head()"
   ]
  },
  {
   "cell_type": "code",
   "execution_count": 13,
   "id": "ee32fe02",
   "metadata": {},
   "outputs": [],
   "source": [
    "df31 = pd.read_csv('cubic_tcp_parameters3.csv')\n",
    "\n",
    "df32 = pd.read_csv('log3.log', delimiter='--', engine='python', names=['round', 'message'])\n",
    "df32['round'] = df32['round'].astype(int)\n",
    "df32['message'] = df32['message'].astype(str).apply(str.strip)"
   ]
  },
  {
   "cell_type": "code",
   "execution_count": 14,
   "id": "95a5ae82",
   "metadata": {},
   "outputs": [
    {
     "data": {
      "text/html": [
       "<div>\n",
       "<style scoped>\n",
       "    .dataframe tbody tr th:only-of-type {\n",
       "        vertical-align: middle;\n",
       "    }\n",
       "\n",
       "    .dataframe tbody tr th {\n",
       "        vertical-align: top;\n",
       "    }\n",
       "\n",
       "    .dataframe thead th {\n",
       "        text-align: right;\n",
       "    }\n",
       "</style>\n",
       "<table border=\"1\" class=\"dataframe\">\n",
       "  <thead>\n",
       "    <tr style=\"text-align: right;\">\n",
       "      <th></th>\n",
       "      <th>round</th>\n",
       "      <th>cwnd</th>\n",
       "      <th>wlast_max</th>\n",
       "      <th>wtcp</th>\n",
       "      <th>epoch_start</th>\n",
       "      <th>origin_point</th>\n",
       "      <th>dMin</th>\n",
       "      <th>ack_cnt</th>\n",
       "    </tr>\n",
       "  </thead>\n",
       "  <tbody>\n",
       "    <tr>\n",
       "      <th>0</th>\n",
       "      <td>1.0</td>\n",
       "      <td>11.0</td>\n",
       "      <td>30.0</td>\n",
       "      <td>0.0</td>\n",
       "      <td>0.0</td>\n",
       "      <td>0.0</td>\n",
       "      <td>0.493492</td>\n",
       "      <td>0.0</td>\n",
       "    </tr>\n",
       "    <tr>\n",
       "      <th>1</th>\n",
       "      <td>2.0</td>\n",
       "      <td>12.0</td>\n",
       "      <td>30.0</td>\n",
       "      <td>0.0</td>\n",
       "      <td>0.0</td>\n",
       "      <td>0.0</td>\n",
       "      <td>0.007716</td>\n",
       "      <td>0.0</td>\n",
       "    </tr>\n",
       "    <tr>\n",
       "      <th>2</th>\n",
       "      <td>3.0</td>\n",
       "      <td>13.0</td>\n",
       "      <td>30.0</td>\n",
       "      <td>0.0</td>\n",
       "      <td>0.0</td>\n",
       "      <td>0.0</td>\n",
       "      <td>0.007716</td>\n",
       "      <td>0.0</td>\n",
       "    </tr>\n",
       "    <tr>\n",
       "      <th>3</th>\n",
       "      <td>4.0</td>\n",
       "      <td>14.0</td>\n",
       "      <td>30.0</td>\n",
       "      <td>0.0</td>\n",
       "      <td>0.0</td>\n",
       "      <td>0.0</td>\n",
       "      <td>0.007716</td>\n",
       "      <td>0.0</td>\n",
       "    </tr>\n",
       "    <tr>\n",
       "      <th>4</th>\n",
       "      <td>5.0</td>\n",
       "      <td>15.0</td>\n",
       "      <td>30.0</td>\n",
       "      <td>0.0</td>\n",
       "      <td>0.0</td>\n",
       "      <td>0.0</td>\n",
       "      <td>0.007716</td>\n",
       "      <td>0.0</td>\n",
       "    </tr>\n",
       "  </tbody>\n",
       "</table>\n",
       "</div>"
      ],
      "text/plain": [
       "   round  cwnd  wlast_max  wtcp  epoch_start  origin_point      dMin  ack_cnt\n",
       "0    1.0  11.0       30.0   0.0          0.0           0.0  0.493492      0.0\n",
       "1    2.0  12.0       30.0   0.0          0.0           0.0  0.007716      0.0\n",
       "2    3.0  13.0       30.0   0.0          0.0           0.0  0.007716      0.0\n",
       "3    4.0  14.0       30.0   0.0          0.0           0.0  0.007716      0.0\n",
       "4    5.0  15.0       30.0   0.0          0.0           0.0  0.007716      0.0"
      ]
     },
     "execution_count": 14,
     "metadata": {},
     "output_type": "execute_result"
    }
   ],
   "source": [
    "df31.head()"
   ]
  },
  {
   "cell_type": "code",
   "execution_count": 15,
   "id": "fca30be5",
   "metadata": {},
   "outputs": [
    {
     "data": {
      "text/html": [
       "<div>\n",
       "<style scoped>\n",
       "    .dataframe tbody tr th:only-of-type {\n",
       "        vertical-align: middle;\n",
       "    }\n",
       "\n",
       "    .dataframe tbody tr th {\n",
       "        vertical-align: top;\n",
       "    }\n",
       "\n",
       "    .dataframe thead th {\n",
       "        text-align: right;\n",
       "    }\n",
       "</style>\n",
       "<table border=\"1\" class=\"dataframe\">\n",
       "  <thead>\n",
       "    <tr style=\"text-align: right;\">\n",
       "      <th></th>\n",
       "      <th>round</th>\n",
       "      <th>message</th>\n",
       "    </tr>\n",
       "  </thead>\n",
       "  <tbody>\n",
       "    <tr>\n",
       "      <th>0</th>\n",
       "      <td>1</td>\n",
       "      <td>dmin: 0.4934923570507468</td>\n",
       "    </tr>\n",
       "    <tr>\n",
       "      <th>1</th>\n",
       "      <td>1</td>\n",
       "      <td>cnwd(10) &lt; ssthresh(30)</td>\n",
       "    </tr>\n",
       "    <tr>\n",
       "      <th>2</th>\n",
       "      <td>1</td>\n",
       "      <td>cnwd: 11</td>\n",
       "    </tr>\n",
       "    <tr>\n",
       "      <th>3</th>\n",
       "      <td>2</td>\n",
       "      <td>dmin: 0.007715651482919306</td>\n",
       "    </tr>\n",
       "    <tr>\n",
       "      <th>4</th>\n",
       "      <td>2</td>\n",
       "      <td>cnwd(11) &lt; ssthresh(30)</td>\n",
       "    </tr>\n",
       "  </tbody>\n",
       "</table>\n",
       "</div>"
      ],
      "text/plain": [
       "   round                     message\n",
       "0      1    dmin: 0.4934923570507468\n",
       "1      1     cnwd(10) < ssthresh(30)\n",
       "2      1                    cnwd: 11\n",
       "3      2  dmin: 0.007715651482919306\n",
       "4      2     cnwd(11) < ssthresh(30)"
      ]
     },
     "execution_count": 15,
     "metadata": {},
     "output_type": "execute_result"
    }
   ],
   "source": [
    "df32.head()"
   ]
  },
  {
   "cell_type": "code",
   "execution_count": 16,
   "id": "ac1d07f5",
   "metadata": {},
   "outputs": [],
   "source": [
    "df41 = pd.read_csv('cubic_tcp_parameters4.csv')\n",
    "\n",
    "df42 = pd.read_csv('log4.log', delimiter='--', engine='python', names=['round', 'message'])\n",
    "df42['round'] = df42['round'].astype(int)\n",
    "df42['message'] = df42['message'].astype(str).apply(str.strip)"
   ]
  },
  {
   "cell_type": "code",
   "execution_count": 17,
   "id": "af80b789",
   "metadata": {},
   "outputs": [
    {
     "data": {
      "text/html": [
       "<div>\n",
       "<style scoped>\n",
       "    .dataframe tbody tr th:only-of-type {\n",
       "        vertical-align: middle;\n",
       "    }\n",
       "\n",
       "    .dataframe tbody tr th {\n",
       "        vertical-align: top;\n",
       "    }\n",
       "\n",
       "    .dataframe thead th {\n",
       "        text-align: right;\n",
       "    }\n",
       "</style>\n",
       "<table border=\"1\" class=\"dataframe\">\n",
       "  <thead>\n",
       "    <tr style=\"text-align: right;\">\n",
       "      <th></th>\n",
       "      <th>round</th>\n",
       "      <th>cwnd</th>\n",
       "      <th>wlast_max</th>\n",
       "      <th>wtcp</th>\n",
       "      <th>epoch_start</th>\n",
       "      <th>origin_point</th>\n",
       "      <th>dMin</th>\n",
       "      <th>ack_cnt</th>\n",
       "    </tr>\n",
       "  </thead>\n",
       "  <tbody>\n",
       "    <tr>\n",
       "      <th>0</th>\n",
       "      <td>1.0</td>\n",
       "      <td>11.0</td>\n",
       "      <td>30.0</td>\n",
       "      <td>0.0</td>\n",
       "      <td>0.0</td>\n",
       "      <td>0.0</td>\n",
       "      <td>0.181195</td>\n",
       "      <td>0.0</td>\n",
       "    </tr>\n",
       "    <tr>\n",
       "      <th>1</th>\n",
       "      <td>2.0</td>\n",
       "      <td>12.0</td>\n",
       "      <td>30.0</td>\n",
       "      <td>0.0</td>\n",
       "      <td>0.0</td>\n",
       "      <td>0.0</td>\n",
       "      <td>0.139697</td>\n",
       "      <td>0.0</td>\n",
       "    </tr>\n",
       "    <tr>\n",
       "      <th>2</th>\n",
       "      <td>3.0</td>\n",
       "      <td>13.0</td>\n",
       "      <td>30.0</td>\n",
       "      <td>0.0</td>\n",
       "      <td>0.0</td>\n",
       "      <td>0.0</td>\n",
       "      <td>0.139697</td>\n",
       "      <td>0.0</td>\n",
       "    </tr>\n",
       "    <tr>\n",
       "      <th>3</th>\n",
       "      <td>4.0</td>\n",
       "      <td>14.0</td>\n",
       "      <td>30.0</td>\n",
       "      <td>0.0</td>\n",
       "      <td>0.0</td>\n",
       "      <td>0.0</td>\n",
       "      <td>0.139697</td>\n",
       "      <td>0.0</td>\n",
       "    </tr>\n",
       "    <tr>\n",
       "      <th>4</th>\n",
       "      <td>5.0</td>\n",
       "      <td>15.0</td>\n",
       "      <td>30.0</td>\n",
       "      <td>0.0</td>\n",
       "      <td>0.0</td>\n",
       "      <td>0.0</td>\n",
       "      <td>0.139697</td>\n",
       "      <td>0.0</td>\n",
       "    </tr>\n",
       "  </tbody>\n",
       "</table>\n",
       "</div>"
      ],
      "text/plain": [
       "   round  cwnd  wlast_max  wtcp  epoch_start  origin_point      dMin  ack_cnt\n",
       "0    1.0  11.0       30.0   0.0          0.0           0.0  0.181195      0.0\n",
       "1    2.0  12.0       30.0   0.0          0.0           0.0  0.139697      0.0\n",
       "2    3.0  13.0       30.0   0.0          0.0           0.0  0.139697      0.0\n",
       "3    4.0  14.0       30.0   0.0          0.0           0.0  0.139697      0.0\n",
       "4    5.0  15.0       30.0   0.0          0.0           0.0  0.139697      0.0"
      ]
     },
     "execution_count": 17,
     "metadata": {},
     "output_type": "execute_result"
    }
   ],
   "source": [
    "df41.head()"
   ]
  },
  {
   "cell_type": "code",
   "execution_count": 18,
   "id": "27fbb665",
   "metadata": {},
   "outputs": [
    {
     "data": {
      "text/html": [
       "<div>\n",
       "<style scoped>\n",
       "    .dataframe tbody tr th:only-of-type {\n",
       "        vertical-align: middle;\n",
       "    }\n",
       "\n",
       "    .dataframe tbody tr th {\n",
       "        vertical-align: top;\n",
       "    }\n",
       "\n",
       "    .dataframe thead th {\n",
       "        text-align: right;\n",
       "    }\n",
       "</style>\n",
       "<table border=\"1\" class=\"dataframe\">\n",
       "  <thead>\n",
       "    <tr style=\"text-align: right;\">\n",
       "      <th></th>\n",
       "      <th>round</th>\n",
       "      <th>message</th>\n",
       "    </tr>\n",
       "  </thead>\n",
       "  <tbody>\n",
       "    <tr>\n",
       "      <th>0</th>\n",
       "      <td>1</td>\n",
       "      <td>dmin: 0.1811953484030281</td>\n",
       "    </tr>\n",
       "    <tr>\n",
       "      <th>1</th>\n",
       "      <td>1</td>\n",
       "      <td>cnwd(10) &lt; ssthresh(30)</td>\n",
       "    </tr>\n",
       "    <tr>\n",
       "      <th>2</th>\n",
       "      <td>1</td>\n",
       "      <td>cnwd: 11</td>\n",
       "    </tr>\n",
       "    <tr>\n",
       "      <th>3</th>\n",
       "      <td>2</td>\n",
       "      <td>dmin: 0.1396972179756124</td>\n",
       "    </tr>\n",
       "    <tr>\n",
       "      <th>4</th>\n",
       "      <td>2</td>\n",
       "      <td>cnwd(11) &lt; ssthresh(30)</td>\n",
       "    </tr>\n",
       "  </tbody>\n",
       "</table>\n",
       "</div>"
      ],
      "text/plain": [
       "   round                   message\n",
       "0      1  dmin: 0.1811953484030281\n",
       "1      1   cnwd(10) < ssthresh(30)\n",
       "2      1                  cnwd: 11\n",
       "3      2  dmin: 0.1396972179756124\n",
       "4      2   cnwd(11) < ssthresh(30)"
      ]
     },
     "execution_count": 18,
     "metadata": {},
     "output_type": "execute_result"
    }
   ],
   "source": [
    "df42.head()"
   ]
  },
  {
   "cell_type": "markdown",
   "id": "d946bf8c",
   "metadata": {},
   "source": [
    "#### NOTE:\n",
    "- df11, df21, df31, df41 contain tcp values at the end of each round(RTT).\n",
    "- df12, df22, df32, df42 contain Cubic TCP logs in 1000 round(RTT).\n",
    "- in the first simulation (df11, df12) everything was normal.\n",
    "- in the second simulation (df21, df22) there was more packet loss.\n",
    "- in the third simulation (df31, df32) there was more timeout.\n",
    "- in the fourth simulation (df41, df42) there was more both packet loss and timeout."
   ]
  },
  {
   "cell_type": "markdown",
   "id": "4e9adfc1",
   "metadata": {},
   "source": [
    "### Get Certain Rounds Info\n",
    "simply just change the number and see the results."
   ]
  },
  {
   "cell_type": "markdown",
   "id": "a8586d89",
   "metadata": {},
   "source": [
    "#### - Cubic TCP parameters data at the end of round n"
   ]
  },
  {
   "cell_type": "code",
   "execution_count": 19,
   "id": "81aee7c4",
   "metadata": {},
   "outputs": [],
   "source": [
    "n = 1"
   ]
  },
  {
   "cell_type": "code",
   "execution_count": 20,
   "id": "6391b820",
   "metadata": {},
   "outputs": [
    {
     "data": {
      "text/html": [
       "<div>\n",
       "<style scoped>\n",
       "    .dataframe tbody tr th:only-of-type {\n",
       "        vertical-align: middle;\n",
       "    }\n",
       "\n",
       "    .dataframe tbody tr th {\n",
       "        vertical-align: top;\n",
       "    }\n",
       "\n",
       "    .dataframe thead th {\n",
       "        text-align: right;\n",
       "    }\n",
       "</style>\n",
       "<table border=\"1\" class=\"dataframe\">\n",
       "  <thead>\n",
       "    <tr style=\"text-align: right;\">\n",
       "      <th></th>\n",
       "      <th>round</th>\n",
       "      <th>cwnd</th>\n",
       "      <th>wlast_max</th>\n",
       "      <th>wtcp</th>\n",
       "      <th>epoch_start</th>\n",
       "      <th>origin_point</th>\n",
       "      <th>dMin</th>\n",
       "      <th>ack_cnt</th>\n",
       "    </tr>\n",
       "  </thead>\n",
       "  <tbody>\n",
       "    <tr>\n",
       "      <th>0</th>\n",
       "      <td>1.0</td>\n",
       "      <td>11.0</td>\n",
       "      <td>30.0</td>\n",
       "      <td>0.0</td>\n",
       "      <td>0.0</td>\n",
       "      <td>0.0</td>\n",
       "      <td>0.70982</td>\n",
       "      <td>0.0</td>\n",
       "    </tr>\n",
       "  </tbody>\n",
       "</table>\n",
       "</div>"
      ],
      "text/plain": [
       "   round  cwnd  wlast_max  wtcp  epoch_start  origin_point     dMin  ack_cnt\n",
       "0    1.0  11.0       30.0   0.0          0.0           0.0  0.70982      0.0"
      ]
     },
     "execution_count": 20,
     "metadata": {},
     "output_type": "execute_result"
    }
   ],
   "source": [
    "df11.loc[df11['round']== n]"
   ]
  },
  {
   "cell_type": "code",
   "execution_count": 21,
   "id": "f8eb202f",
   "metadata": {},
   "outputs": [
    {
     "data": {
      "text/html": [
       "<div>\n",
       "<style scoped>\n",
       "    .dataframe tbody tr th:only-of-type {\n",
       "        vertical-align: middle;\n",
       "    }\n",
       "\n",
       "    .dataframe tbody tr th {\n",
       "        vertical-align: top;\n",
       "    }\n",
       "\n",
       "    .dataframe thead th {\n",
       "        text-align: right;\n",
       "    }\n",
       "</style>\n",
       "<table border=\"1\" class=\"dataframe\">\n",
       "  <thead>\n",
       "    <tr style=\"text-align: right;\">\n",
       "      <th></th>\n",
       "      <th>round</th>\n",
       "      <th>cwnd</th>\n",
       "      <th>wlast_max</th>\n",
       "      <th>wtcp</th>\n",
       "      <th>epoch_start</th>\n",
       "      <th>origin_point</th>\n",
       "      <th>dMin</th>\n",
       "      <th>ack_cnt</th>\n",
       "    </tr>\n",
       "  </thead>\n",
       "  <tbody>\n",
       "    <tr>\n",
       "      <th>0</th>\n",
       "      <td>1.0</td>\n",
       "      <td>11.0</td>\n",
       "      <td>30.0</td>\n",
       "      <td>0.0</td>\n",
       "      <td>0.0</td>\n",
       "      <td>0.0</td>\n",
       "      <td>0.229977</td>\n",
       "      <td>0.0</td>\n",
       "    </tr>\n",
       "  </tbody>\n",
       "</table>\n",
       "</div>"
      ],
      "text/plain": [
       "   round  cwnd  wlast_max  wtcp  epoch_start  origin_point      dMin  ack_cnt\n",
       "0    1.0  11.0       30.0   0.0          0.0           0.0  0.229977      0.0"
      ]
     },
     "execution_count": 21,
     "metadata": {},
     "output_type": "execute_result"
    }
   ],
   "source": [
    "df21.loc[df21['round']== n]"
   ]
  },
  {
   "cell_type": "code",
   "execution_count": 22,
   "id": "0b674f71",
   "metadata": {},
   "outputs": [
    {
     "data": {
      "text/html": [
       "<div>\n",
       "<style scoped>\n",
       "    .dataframe tbody tr th:only-of-type {\n",
       "        vertical-align: middle;\n",
       "    }\n",
       "\n",
       "    .dataframe tbody tr th {\n",
       "        vertical-align: top;\n",
       "    }\n",
       "\n",
       "    .dataframe thead th {\n",
       "        text-align: right;\n",
       "    }\n",
       "</style>\n",
       "<table border=\"1\" class=\"dataframe\">\n",
       "  <thead>\n",
       "    <tr style=\"text-align: right;\">\n",
       "      <th></th>\n",
       "      <th>round</th>\n",
       "      <th>cwnd</th>\n",
       "      <th>wlast_max</th>\n",
       "      <th>wtcp</th>\n",
       "      <th>epoch_start</th>\n",
       "      <th>origin_point</th>\n",
       "      <th>dMin</th>\n",
       "      <th>ack_cnt</th>\n",
       "    </tr>\n",
       "  </thead>\n",
       "  <tbody>\n",
       "    <tr>\n",
       "      <th>0</th>\n",
       "      <td>1.0</td>\n",
       "      <td>11.0</td>\n",
       "      <td>30.0</td>\n",
       "      <td>0.0</td>\n",
       "      <td>0.0</td>\n",
       "      <td>0.0</td>\n",
       "      <td>0.493492</td>\n",
       "      <td>0.0</td>\n",
       "    </tr>\n",
       "  </tbody>\n",
       "</table>\n",
       "</div>"
      ],
      "text/plain": [
       "   round  cwnd  wlast_max  wtcp  epoch_start  origin_point      dMin  ack_cnt\n",
       "0    1.0  11.0       30.0   0.0          0.0           0.0  0.493492      0.0"
      ]
     },
     "execution_count": 22,
     "metadata": {},
     "output_type": "execute_result"
    }
   ],
   "source": [
    "df31.loc[df31['round']== n]"
   ]
  },
  {
   "cell_type": "code",
   "execution_count": 23,
   "id": "31ca29a2",
   "metadata": {},
   "outputs": [
    {
     "data": {
      "text/html": [
       "<div>\n",
       "<style scoped>\n",
       "    .dataframe tbody tr th:only-of-type {\n",
       "        vertical-align: middle;\n",
       "    }\n",
       "\n",
       "    .dataframe tbody tr th {\n",
       "        vertical-align: top;\n",
       "    }\n",
       "\n",
       "    .dataframe thead th {\n",
       "        text-align: right;\n",
       "    }\n",
       "</style>\n",
       "<table border=\"1\" class=\"dataframe\">\n",
       "  <thead>\n",
       "    <tr style=\"text-align: right;\">\n",
       "      <th></th>\n",
       "      <th>round</th>\n",
       "      <th>cwnd</th>\n",
       "      <th>wlast_max</th>\n",
       "      <th>wtcp</th>\n",
       "      <th>epoch_start</th>\n",
       "      <th>origin_point</th>\n",
       "      <th>dMin</th>\n",
       "      <th>ack_cnt</th>\n",
       "    </tr>\n",
       "  </thead>\n",
       "  <tbody>\n",
       "    <tr>\n",
       "      <th>0</th>\n",
       "      <td>1.0</td>\n",
       "      <td>11.0</td>\n",
       "      <td>30.0</td>\n",
       "      <td>0.0</td>\n",
       "      <td>0.0</td>\n",
       "      <td>0.0</td>\n",
       "      <td>0.181195</td>\n",
       "      <td>0.0</td>\n",
       "    </tr>\n",
       "  </tbody>\n",
       "</table>\n",
       "</div>"
      ],
      "text/plain": [
       "   round  cwnd  wlast_max  wtcp  epoch_start  origin_point      dMin  ack_cnt\n",
       "0    1.0  11.0       30.0   0.0          0.0           0.0  0.181195      0.0"
      ]
     },
     "execution_count": 23,
     "metadata": {},
     "output_type": "execute_result"
    }
   ],
   "source": [
    "df41.loc[df41['round']== n]"
   ]
  },
  {
   "cell_type": "markdown",
   "id": "9a051e68",
   "metadata": {},
   "source": [
    "#### - Cubic TCP logs at round n"
   ]
  },
  {
   "cell_type": "code",
   "execution_count": 24,
   "id": "4338561e",
   "metadata": {},
   "outputs": [
    {
     "data": {
      "text/html": [
       "<div>\n",
       "<style scoped>\n",
       "    .dataframe tbody tr th:only-of-type {\n",
       "        vertical-align: middle;\n",
       "    }\n",
       "\n",
       "    .dataframe tbody tr th {\n",
       "        vertical-align: top;\n",
       "    }\n",
       "\n",
       "    .dataframe thead th {\n",
       "        text-align: right;\n",
       "    }\n",
       "</style>\n",
       "<table border=\"1\" class=\"dataframe\">\n",
       "  <thead>\n",
       "    <tr style=\"text-align: right;\">\n",
       "      <th></th>\n",
       "      <th>round</th>\n",
       "      <th>message</th>\n",
       "    </tr>\n",
       "  </thead>\n",
       "  <tbody>\n",
       "    <tr>\n",
       "      <th>0</th>\n",
       "      <td>1</td>\n",
       "      <td>dmin: 0.7098201309872537</td>\n",
       "    </tr>\n",
       "    <tr>\n",
       "      <th>1</th>\n",
       "      <td>1</td>\n",
       "      <td>cnwd(10) &lt; ssthresh(30)</td>\n",
       "    </tr>\n",
       "    <tr>\n",
       "      <th>2</th>\n",
       "      <td>1</td>\n",
       "      <td>cnwd: 11</td>\n",
       "    </tr>\n",
       "  </tbody>\n",
       "</table>\n",
       "</div>"
      ],
      "text/plain": [
       "   round                   message\n",
       "0      1  dmin: 0.7098201309872537\n",
       "1      1   cnwd(10) < ssthresh(30)\n",
       "2      1                  cnwd: 11"
      ]
     },
     "execution_count": 24,
     "metadata": {},
     "output_type": "execute_result"
    }
   ],
   "source": [
    "df12.loc[df12['round']== n]"
   ]
  },
  {
   "cell_type": "code",
   "execution_count": 25,
   "id": "03959355",
   "metadata": {},
   "outputs": [
    {
     "data": {
      "text/html": [
       "<div>\n",
       "<style scoped>\n",
       "    .dataframe tbody tr th:only-of-type {\n",
       "        vertical-align: middle;\n",
       "    }\n",
       "\n",
       "    .dataframe tbody tr th {\n",
       "        vertical-align: top;\n",
       "    }\n",
       "\n",
       "    .dataframe thead th {\n",
       "        text-align: right;\n",
       "    }\n",
       "</style>\n",
       "<table border=\"1\" class=\"dataframe\">\n",
       "  <thead>\n",
       "    <tr style=\"text-align: right;\">\n",
       "      <th></th>\n",
       "      <th>round</th>\n",
       "      <th>message</th>\n",
       "    </tr>\n",
       "  </thead>\n",
       "  <tbody>\n",
       "    <tr>\n",
       "      <th>0</th>\n",
       "      <td>1</td>\n",
       "      <td>dmin: 0.22997693701376365</td>\n",
       "    </tr>\n",
       "    <tr>\n",
       "      <th>1</th>\n",
       "      <td>1</td>\n",
       "      <td>cnwd(10) &lt; ssthresh(30)</td>\n",
       "    </tr>\n",
       "    <tr>\n",
       "      <th>2</th>\n",
       "      <td>1</td>\n",
       "      <td>cnwd: 11</td>\n",
       "    </tr>\n",
       "  </tbody>\n",
       "</table>\n",
       "</div>"
      ],
      "text/plain": [
       "   round                    message\n",
       "0      1  dmin: 0.22997693701376365\n",
       "1      1    cnwd(10) < ssthresh(30)\n",
       "2      1                   cnwd: 11"
      ]
     },
     "execution_count": 25,
     "metadata": {},
     "output_type": "execute_result"
    }
   ],
   "source": [
    "df22.loc[df22['round']== n]"
   ]
  },
  {
   "cell_type": "code",
   "execution_count": 26,
   "id": "0fc0a894",
   "metadata": {},
   "outputs": [
    {
     "data": {
      "text/html": [
       "<div>\n",
       "<style scoped>\n",
       "    .dataframe tbody tr th:only-of-type {\n",
       "        vertical-align: middle;\n",
       "    }\n",
       "\n",
       "    .dataframe tbody tr th {\n",
       "        vertical-align: top;\n",
       "    }\n",
       "\n",
       "    .dataframe thead th {\n",
       "        text-align: right;\n",
       "    }\n",
       "</style>\n",
       "<table border=\"1\" class=\"dataframe\">\n",
       "  <thead>\n",
       "    <tr style=\"text-align: right;\">\n",
       "      <th></th>\n",
       "      <th>round</th>\n",
       "      <th>message</th>\n",
       "    </tr>\n",
       "  </thead>\n",
       "  <tbody>\n",
       "    <tr>\n",
       "      <th>0</th>\n",
       "      <td>1</td>\n",
       "      <td>dmin: 0.4934923570507468</td>\n",
       "    </tr>\n",
       "    <tr>\n",
       "      <th>1</th>\n",
       "      <td>1</td>\n",
       "      <td>cnwd(10) &lt; ssthresh(30)</td>\n",
       "    </tr>\n",
       "    <tr>\n",
       "      <th>2</th>\n",
       "      <td>1</td>\n",
       "      <td>cnwd: 11</td>\n",
       "    </tr>\n",
       "  </tbody>\n",
       "</table>\n",
       "</div>"
      ],
      "text/plain": [
       "   round                   message\n",
       "0      1  dmin: 0.4934923570507468\n",
       "1      1   cnwd(10) < ssthresh(30)\n",
       "2      1                  cnwd: 11"
      ]
     },
     "execution_count": 26,
     "metadata": {},
     "output_type": "execute_result"
    }
   ],
   "source": [
    "df32.loc[df32['round']== n]"
   ]
  },
  {
   "cell_type": "code",
   "execution_count": 27,
   "id": "292cb8d2",
   "metadata": {},
   "outputs": [
    {
     "data": {
      "text/html": [
       "<div>\n",
       "<style scoped>\n",
       "    .dataframe tbody tr th:only-of-type {\n",
       "        vertical-align: middle;\n",
       "    }\n",
       "\n",
       "    .dataframe tbody tr th {\n",
       "        vertical-align: top;\n",
       "    }\n",
       "\n",
       "    .dataframe thead th {\n",
       "        text-align: right;\n",
       "    }\n",
       "</style>\n",
       "<table border=\"1\" class=\"dataframe\">\n",
       "  <thead>\n",
       "    <tr style=\"text-align: right;\">\n",
       "      <th></th>\n",
       "      <th>round</th>\n",
       "      <th>message</th>\n",
       "    </tr>\n",
       "  </thead>\n",
       "  <tbody>\n",
       "    <tr>\n",
       "      <th>0</th>\n",
       "      <td>1</td>\n",
       "      <td>dmin: 0.1811953484030281</td>\n",
       "    </tr>\n",
       "    <tr>\n",
       "      <th>1</th>\n",
       "      <td>1</td>\n",
       "      <td>cnwd(10) &lt; ssthresh(30)</td>\n",
       "    </tr>\n",
       "    <tr>\n",
       "      <th>2</th>\n",
       "      <td>1</td>\n",
       "      <td>cnwd: 11</td>\n",
       "    </tr>\n",
       "  </tbody>\n",
       "</table>\n",
       "</div>"
      ],
      "text/plain": [
       "   round                   message\n",
       "0      1  dmin: 0.1811953484030281\n",
       "1      1   cnwd(10) < ssthresh(30)\n",
       "2      1                  cnwd: 11"
      ]
     },
     "execution_count": 27,
     "metadata": {},
     "output_type": "execute_result"
    }
   ],
   "source": [
    "df42.loc[df42['round']== n]"
   ]
  },
  {
   "cell_type": "markdown",
   "id": "b1e12572",
   "metadata": {},
   "source": [
    "### Get rounds where packet loss or timeout occured."
   ]
  },
  {
   "cell_type": "code",
   "execution_count": 28,
   "id": "c1926a3b",
   "metadata": {},
   "outputs": [],
   "source": [
    "def get_packet_loss_rounds(df):\n",
    "    \"\"\"\n",
    "    it filters the given dataframe and make a list of the round numbers\n",
    "    and prints the len of list and the list.\n",
    "    \"\"\"\n",
    "    filtered_df = df.loc[df['message'] == 'PACKET LOSS']\n",
    "    rounds = filtered_df['round'].tolist()\n",
    "    print(len(rounds))\n",
    "    print(*rounds, sep=' ,') \n",
    "\n",
    "def get_timeout_rounds(df):\n",
    "    \"\"\"\n",
    "    it filters the given dataframe and make a list of the round numbers\n",
    "    and prints the len of list and the list.\n",
    "    \"\"\"\n",
    "    filtered_df =  df.loc[df['message'] == 'TIMEOUT']\n",
    "    rounds = filtered_df['round'].tolist()\n",
    "    print(len(rounds))\n",
    "    print(*rounds, sep=' ,')"
   ]
  },
  {
   "cell_type": "code",
   "execution_count": 29,
   "id": "24574a57",
   "metadata": {
    "scrolled": false
   },
   "outputs": [
    {
     "name": "stdout",
     "output_type": "stream",
     "text": [
      "10\n",
      "144 ,221 ,352 ,493 ,656 ,678 ,829 ,982 ,997 ,1001\n"
     ]
    }
   ],
   "source": [
    "get_packet_loss_rounds(df12)"
   ]
  },
  {
   "cell_type": "code",
   "execution_count": 30,
   "id": "28472346",
   "metadata": {
    "scrolled": false
   },
   "outputs": [
    {
     "name": "stdout",
     "output_type": "stream",
     "text": [
      "2\n",
      "653 ,1001\n"
     ]
    }
   ],
   "source": [
    "get_timeout_rounds(df12)"
   ]
  },
  {
   "cell_type": "code",
   "execution_count": 31,
   "id": "cb9c7f26",
   "metadata": {},
   "outputs": [
    {
     "name": "stdout",
     "output_type": "stream",
     "text": [
      "30\n",
      "23 ,42 ,81 ,122 ,183 ,207 ,209 ,270 ,310 ,371 ,383 ,390 ,440 ,459 ,471 ,536 ,591 ,626 ,672 ,729 ,765 ,779 ,819 ,841 ,856 ,885 ,929 ,934 ,965 ,1001\n"
     ]
    }
   ],
   "source": [
    "get_packet_loss_rounds(df22)"
   ]
  },
  {
   "cell_type": "code",
   "execution_count": 32,
   "id": "9a1764a9",
   "metadata": {},
   "outputs": [
    {
     "name": "stdout",
     "output_type": "stream",
     "text": [
      "2\n",
      "772 ,1001\n"
     ]
    }
   ],
   "source": [
    "get_timeout_rounds(df22)"
   ]
  },
  {
   "cell_type": "code",
   "execution_count": 33,
   "id": "fe7c4b5d",
   "metadata": {},
   "outputs": [
    {
     "name": "stdout",
     "output_type": "stream",
     "text": [
      "13\n",
      "135 ,157 ,167 ,245 ,264 ,313 ,422 ,569 ,579 ,658 ,667 ,837 ,1001\n"
     ]
    }
   ],
   "source": [
    "get_packet_loss_rounds(df32)"
   ]
  },
  {
   "cell_type": "code",
   "execution_count": 34,
   "id": "2983ad7b",
   "metadata": {},
   "outputs": [
    {
     "name": "stdout",
     "output_type": "stream",
     "text": [
      "17\n",
      "56 ,95 ,184 ,280 ,328 ,459 ,535 ,561 ,653 ,663 ,774 ,816 ,822 ,939 ,952 ,962 ,1001\n"
     ]
    }
   ],
   "source": [
    "get_timeout_rounds(df32)"
   ]
  },
  {
   "cell_type": "code",
   "execution_count": 35,
   "id": "505e3457",
   "metadata": {},
   "outputs": [
    {
     "name": "stdout",
     "output_type": "stream",
     "text": [
      "33\n",
      "41 ,105 ,136 ,182 ,194 ,263 ,291 ,324 ,330 ,391 ,460 ,517 ,535 ,559 ,618 ,624 ,629 ,678 ,709 ,760 ,787 ,815 ,834 ,864 ,884 ,887 ,890 ,903 ,913 ,960 ,963 ,980 ,1001\n"
     ]
    }
   ],
   "source": [
    "get_packet_loss_rounds(df42)"
   ]
  },
  {
   "cell_type": "code",
   "execution_count": 36,
   "id": "a8f9fdec",
   "metadata": {},
   "outputs": [
    {
     "name": "stdout",
     "output_type": "stream",
     "text": [
      "16\n",
      "48 ,101 ,207 ,320 ,376 ,490 ,557 ,579 ,648 ,710 ,776 ,781 ,821 ,926 ,967 ,1001\n"
     ]
    }
   ],
   "source": [
    "get_timeout_rounds(df42)"
   ]
  },
  {
   "cell_type": "markdown",
   "id": "40f13b14",
   "metadata": {},
   "source": [
    "### Descriptive Statistics of the first dataframe.\n",
    "without considering round column"
   ]
  },
  {
   "cell_type": "code",
   "execution_count": 37,
   "id": "e86944e0",
   "metadata": {},
   "outputs": [
    {
     "data": {
      "text/html": [
       "<div>\n",
       "<style scoped>\n",
       "    .dataframe tbody tr th:only-of-type {\n",
       "        vertical-align: middle;\n",
       "    }\n",
       "\n",
       "    .dataframe tbody tr th {\n",
       "        vertical-align: top;\n",
       "    }\n",
       "\n",
       "    .dataframe thead th {\n",
       "        text-align: right;\n",
       "    }\n",
       "</style>\n",
       "<table border=\"1\" class=\"dataframe\">\n",
       "  <thead>\n",
       "    <tr style=\"text-align: right;\">\n",
       "      <th></th>\n",
       "      <th>cwnd</th>\n",
       "      <th>wlast_max</th>\n",
       "      <th>wtcp</th>\n",
       "      <th>epoch_start</th>\n",
       "      <th>origin_point</th>\n",
       "      <th>dMin</th>\n",
       "      <th>ack_cnt</th>\n",
       "    </tr>\n",
       "  </thead>\n",
       "  <tbody>\n",
       "    <tr>\n",
       "      <th>count</th>\n",
       "      <td>1000.000000</td>\n",
       "      <td>1000.000000</td>\n",
       "      <td>1000.000000</td>\n",
       "      <td>1.000000e+03</td>\n",
       "      <td>1000.000000</td>\n",
       "      <td>1000.000000</td>\n",
       "      <td>1000.0</td>\n",
       "    </tr>\n",
       "    <tr>\n",
       "      <th>mean</th>\n",
       "      <td>83.029513</td>\n",
       "      <td>79.185161</td>\n",
       "      <td>78.790293</td>\n",
       "      <td>1.433129e+09</td>\n",
       "      <td>78.458428</td>\n",
       "      <td>0.003962</td>\n",
       "      <td>0.0</td>\n",
       "    </tr>\n",
       "    <tr>\n",
       "      <th>std</th>\n",
       "      <td>31.686419</td>\n",
       "      <td>31.083451</td>\n",
       "      <td>32.856461</td>\n",
       "      <td>6.535091e+08</td>\n",
       "      <td>32.956995</td>\n",
       "      <td>0.028570</td>\n",
       "      <td>0.0</td>\n",
       "    </tr>\n",
       "    <tr>\n",
       "      <th>min</th>\n",
       "      <td>11.000000</td>\n",
       "      <td>30.000000</td>\n",
       "      <td>0.000000</td>\n",
       "      <td>0.000000e+00</td>\n",
       "      <td>0.000000</td>\n",
       "      <td>0.000686</td>\n",
       "      <td>0.0</td>\n",
       "    </tr>\n",
       "    <tr>\n",
       "      <th>25%</th>\n",
       "      <td>56.480000</td>\n",
       "      <td>55.600000</td>\n",
       "      <td>56.584757</td>\n",
       "      <td>1.730832e+09</td>\n",
       "      <td>56.480000</td>\n",
       "      <td>0.000686</td>\n",
       "      <td>0.0</td>\n",
       "    </tr>\n",
       "    <tr>\n",
       "      <th>50%</th>\n",
       "      <td>86.945600</td>\n",
       "      <td>89.384000</td>\n",
       "      <td>71.936712</td>\n",
       "      <td>1.730832e+09</td>\n",
       "      <td>71.384000</td>\n",
       "      <td>0.000686</td>\n",
       "      <td>0.0</td>\n",
       "    </tr>\n",
       "    <tr>\n",
       "      <th>75%</th>\n",
       "      <td>111.324608</td>\n",
       "      <td>99.365184</td>\n",
       "      <td>111.471855</td>\n",
       "      <td>1.730832e+09</td>\n",
       "      <td>111.324608</td>\n",
       "      <td>0.000686</td>\n",
       "      <td>0.0</td>\n",
       "    </tr>\n",
       "    <tr>\n",
       "      <th>max</th>\n",
       "      <td>136.259686</td>\n",
       "      <td>136.259686</td>\n",
       "      <td>126.588576</td>\n",
       "      <td>1.730832e+09</td>\n",
       "      <td>126.259686</td>\n",
       "      <td>0.709820</td>\n",
       "      <td>0.0</td>\n",
       "    </tr>\n",
       "  </tbody>\n",
       "</table>\n",
       "</div>"
      ],
      "text/plain": [
       "              cwnd    wlast_max         wtcp   epoch_start  origin_point  \\\n",
       "count  1000.000000  1000.000000  1000.000000  1.000000e+03   1000.000000   \n",
       "mean     83.029513    79.185161    78.790293  1.433129e+09     78.458428   \n",
       "std      31.686419    31.083451    32.856461  6.535091e+08     32.956995   \n",
       "min      11.000000    30.000000     0.000000  0.000000e+00      0.000000   \n",
       "25%      56.480000    55.600000    56.584757  1.730832e+09     56.480000   \n",
       "50%      86.945600    89.384000    71.936712  1.730832e+09     71.384000   \n",
       "75%     111.324608    99.365184   111.471855  1.730832e+09    111.324608   \n",
       "max     136.259686   136.259686   126.588576  1.730832e+09    126.259686   \n",
       "\n",
       "              dMin  ack_cnt  \n",
       "count  1000.000000   1000.0  \n",
       "mean      0.003962      0.0  \n",
       "std       0.028570      0.0  \n",
       "min       0.000686      0.0  \n",
       "25%       0.000686      0.0  \n",
       "50%       0.000686      0.0  \n",
       "75%       0.000686      0.0  \n",
       "max       0.709820      0.0  "
      ]
     },
     "execution_count": 37,
     "metadata": {},
     "output_type": "execute_result"
    }
   ],
   "source": [
    "df11.iloc[:, 1:].describe()"
   ]
  },
  {
   "cell_type": "code",
   "execution_count": 38,
   "id": "ea0590a1",
   "metadata": {},
   "outputs": [
    {
     "data": {
      "text/html": [
       "<div>\n",
       "<style scoped>\n",
       "    .dataframe tbody tr th:only-of-type {\n",
       "        vertical-align: middle;\n",
       "    }\n",
       "\n",
       "    .dataframe tbody tr th {\n",
       "        vertical-align: top;\n",
       "    }\n",
       "\n",
       "    .dataframe thead th {\n",
       "        text-align: right;\n",
       "    }\n",
       "</style>\n",
       "<table border=\"1\" class=\"dataframe\">\n",
       "  <thead>\n",
       "    <tr style=\"text-align: right;\">\n",
       "      <th></th>\n",
       "      <th>cwnd</th>\n",
       "      <th>wlast_max</th>\n",
       "      <th>wtcp</th>\n",
       "      <th>epoch_start</th>\n",
       "      <th>origin_point</th>\n",
       "      <th>dMin</th>\n",
       "      <th>ack_cnt</th>\n",
       "    </tr>\n",
       "  </thead>\n",
       "  <tbody>\n",
       "    <tr>\n",
       "      <th>count</th>\n",
       "      <td>1000.000000</td>\n",
       "      <td>1000.000000</td>\n",
       "      <td>1000.000000</td>\n",
       "      <td>1.000000e+03</td>\n",
       "      <td>1000.000000</td>\n",
       "      <td>1000.000000</td>\n",
       "      <td>1000.0</td>\n",
       "    </tr>\n",
       "    <tr>\n",
       "      <th>mean</th>\n",
       "      <td>39.358710</td>\n",
       "      <td>39.598068</td>\n",
       "      <td>39.935382</td>\n",
       "      <td>1.241007e+09</td>\n",
       "      <td>39.756690</td>\n",
       "      <td>0.005309</td>\n",
       "      <td>0.0</td>\n",
       "    </tr>\n",
       "    <tr>\n",
       "      <th>std</th>\n",
       "      <td>7.054493</td>\n",
       "      <td>7.013568</td>\n",
       "      <td>8.641632</td>\n",
       "      <td>7.800547e+08</td>\n",
       "      <td>8.659160</td>\n",
       "      <td>0.018944</td>\n",
       "      <td>0.0</td>\n",
       "    </tr>\n",
       "    <tr>\n",
       "      <th>min</th>\n",
       "      <td>11.000000</td>\n",
       "      <td>28.434240</td>\n",
       "      <td>0.000000</td>\n",
       "      <td>0.000000e+00</td>\n",
       "      <td>0.000000</td>\n",
       "      <td>0.001151</td>\n",
       "      <td>0.0</td>\n",
       "    </tr>\n",
       "    <tr>\n",
       "      <th>25%</th>\n",
       "      <td>33.401926</td>\n",
       "      <td>34.141492</td>\n",
       "      <td>33.772033</td>\n",
       "      <td>0.000000e+00</td>\n",
       "      <td>33.240000</td>\n",
       "      <td>0.001151</td>\n",
       "      <td>0.0</td>\n",
       "    </tr>\n",
       "    <tr>\n",
       "      <th>50%</th>\n",
       "      <td>39.478394</td>\n",
       "      <td>39.582715</td>\n",
       "      <td>39.846847</td>\n",
       "      <td>1.730832e+09</td>\n",
       "      <td>39.666172</td>\n",
       "      <td>0.001161</td>\n",
       "      <td>0.0</td>\n",
       "    </tr>\n",
       "    <tr>\n",
       "      <th>75%</th>\n",
       "      <td>45.573080</td>\n",
       "      <td>45.573080</td>\n",
       "      <td>46.724934</td>\n",
       "      <td>1.730832e+09</td>\n",
       "      <td>46.561025</td>\n",
       "      <td>0.009756</td>\n",
       "      <td>0.0</td>\n",
       "    </tr>\n",
       "    <tr>\n",
       "      <th>max</th>\n",
       "      <td>50.876601</td>\n",
       "      <td>50.876601</td>\n",
       "      <td>50.103041</td>\n",
       "      <td>1.730832e+09</td>\n",
       "      <td>49.876601</td>\n",
       "      <td>0.229977</td>\n",
       "      <td>0.0</td>\n",
       "    </tr>\n",
       "  </tbody>\n",
       "</table>\n",
       "</div>"
      ],
      "text/plain": [
       "              cwnd    wlast_max         wtcp   epoch_start  origin_point  \\\n",
       "count  1000.000000  1000.000000  1000.000000  1.000000e+03   1000.000000   \n",
       "mean     39.358710    39.598068    39.935382  1.241007e+09     39.756690   \n",
       "std       7.054493     7.013568     8.641632  7.800547e+08      8.659160   \n",
       "min      11.000000    28.434240     0.000000  0.000000e+00      0.000000   \n",
       "25%      33.401926    34.141492    33.772033  0.000000e+00     33.240000   \n",
       "50%      39.478394    39.582715    39.846847  1.730832e+09     39.666172   \n",
       "75%      45.573080    45.573080    46.724934  1.730832e+09     46.561025   \n",
       "max      50.876601    50.876601    50.103041  1.730832e+09     49.876601   \n",
       "\n",
       "              dMin  ack_cnt  \n",
       "count  1000.000000   1000.0  \n",
       "mean      0.005309      0.0  \n",
       "std       0.018944      0.0  \n",
       "min       0.001151      0.0  \n",
       "25%       0.001151      0.0  \n",
       "50%       0.001161      0.0  \n",
       "75%       0.009756      0.0  \n",
       "max       0.229977      0.0  "
      ]
     },
     "execution_count": 38,
     "metadata": {},
     "output_type": "execute_result"
    }
   ],
   "source": [
    "df21.iloc[:, 1:].describe()"
   ]
  },
  {
   "cell_type": "code",
   "execution_count": 39,
   "id": "37d1ac26",
   "metadata": {},
   "outputs": [
    {
     "data": {
      "text/html": [
       "<div>\n",
       "<style scoped>\n",
       "    .dataframe tbody tr th:only-of-type {\n",
       "        vertical-align: middle;\n",
       "    }\n",
       "\n",
       "    .dataframe tbody tr th {\n",
       "        vertical-align: top;\n",
       "    }\n",
       "\n",
       "    .dataframe thead th {\n",
       "        text-align: right;\n",
       "    }\n",
       "</style>\n",
       "<table border=\"1\" class=\"dataframe\">\n",
       "  <thead>\n",
       "    <tr style=\"text-align: right;\">\n",
       "      <th></th>\n",
       "      <th>cwnd</th>\n",
       "      <th>wlast_max</th>\n",
       "      <th>wtcp</th>\n",
       "      <th>epoch_start</th>\n",
       "      <th>origin_point</th>\n",
       "      <th>dMin</th>\n",
       "      <th>ack_cnt</th>\n",
       "    </tr>\n",
       "  </thead>\n",
       "  <tbody>\n",
       "    <tr>\n",
       "      <th>count</th>\n",
       "      <td>1000.000000</td>\n",
       "      <td>1000.000000</td>\n",
       "      <td>1000.000000</td>\n",
       "      <td>1.000000e+03</td>\n",
       "      <td>1000.000000</td>\n",
       "      <td>1000.000000</td>\n",
       "      <td>1000.0</td>\n",
       "    </tr>\n",
       "    <tr>\n",
       "      <th>mean</th>\n",
       "      <td>68.307279</td>\n",
       "      <td>63.943191</td>\n",
       "      <td>64.398270</td>\n",
       "      <td>1.422744e+09</td>\n",
       "      <td>64.076167</td>\n",
       "      <td>0.006324</td>\n",
       "      <td>0.0</td>\n",
       "    </tr>\n",
       "    <tr>\n",
       "      <th>std</th>\n",
       "      <td>24.071859</td>\n",
       "      <td>22.168694</td>\n",
       "      <td>23.429835</td>\n",
       "      <td>6.623968e+08</td>\n",
       "      <td>23.485221</td>\n",
       "      <td>0.015554</td>\n",
       "      <td>0.0</td>\n",
       "    </tr>\n",
       "    <tr>\n",
       "      <th>min</th>\n",
       "      <td>11.000000</td>\n",
       "      <td>30.000000</td>\n",
       "      <td>0.000000</td>\n",
       "      <td>0.000000e+00</td>\n",
       "      <td>0.000000</td>\n",
       "      <td>0.000727</td>\n",
       "      <td>0.0</td>\n",
       "    </tr>\n",
       "    <tr>\n",
       "      <th>25%</th>\n",
       "      <td>51.173594</td>\n",
       "      <td>53.488000</td>\n",
       "      <td>49.937294</td>\n",
       "      <td>1.730833e+09</td>\n",
       "      <td>49.488000</td>\n",
       "      <td>0.004780</td>\n",
       "      <td>0.0</td>\n",
       "    </tr>\n",
       "    <tr>\n",
       "      <th>50%</th>\n",
       "      <td>65.220685</td>\n",
       "      <td>64.025856</td>\n",
       "      <td>64.557465</td>\n",
       "      <td>1.730833e+09</td>\n",
       "      <td>64.220685</td>\n",
       "      <td>0.004780</td>\n",
       "      <td>0.0</td>\n",
       "    </tr>\n",
       "    <tr>\n",
       "      <th>75%</th>\n",
       "      <td>79.261238</td>\n",
       "      <td>68.918893</td>\n",
       "      <td>73.567283</td>\n",
       "      <td>1.730833e+09</td>\n",
       "      <td>72.927192</td>\n",
       "      <td>0.007716</td>\n",
       "      <td>0.0</td>\n",
       "    </tr>\n",
       "    <tr>\n",
       "      <th>max</th>\n",
       "      <td>121.741754</td>\n",
       "      <td>105.927192</td>\n",
       "      <td>107.168088</td>\n",
       "      <td>1.730833e+09</td>\n",
       "      <td>106.741754</td>\n",
       "      <td>0.493492</td>\n",
       "      <td>0.0</td>\n",
       "    </tr>\n",
       "  </tbody>\n",
       "</table>\n",
       "</div>"
      ],
      "text/plain": [
       "              cwnd    wlast_max         wtcp   epoch_start  origin_point  \\\n",
       "count  1000.000000  1000.000000  1000.000000  1.000000e+03   1000.000000   \n",
       "mean     68.307279    63.943191    64.398270  1.422744e+09     64.076167   \n",
       "std      24.071859    22.168694    23.429835  6.623968e+08     23.485221   \n",
       "min      11.000000    30.000000     0.000000  0.000000e+00      0.000000   \n",
       "25%      51.173594    53.488000    49.937294  1.730833e+09     49.488000   \n",
       "50%      65.220685    64.025856    64.557465  1.730833e+09     64.220685   \n",
       "75%      79.261238    68.918893    73.567283  1.730833e+09     72.927192   \n",
       "max     121.741754   105.927192   107.168088  1.730833e+09    106.741754   \n",
       "\n",
       "              dMin  ack_cnt  \n",
       "count  1000.000000   1000.0  \n",
       "mean      0.006324      0.0  \n",
       "std       0.015554      0.0  \n",
       "min       0.000727      0.0  \n",
       "25%       0.004780      0.0  \n",
       "50%       0.004780      0.0  \n",
       "75%       0.007716      0.0  \n",
       "max       0.493492      0.0  "
      ]
     },
     "execution_count": 39,
     "metadata": {},
     "output_type": "execute_result"
    }
   ],
   "source": [
    "df31.iloc[:, 1:].describe()"
   ]
  },
  {
   "cell_type": "code",
   "execution_count": 40,
   "id": "d8eb4245",
   "metadata": {},
   "outputs": [
    {
     "data": {
      "text/html": [
       "<div>\n",
       "<style scoped>\n",
       "    .dataframe tbody tr th:only-of-type {\n",
       "        vertical-align: middle;\n",
       "    }\n",
       "\n",
       "    .dataframe tbody tr th {\n",
       "        vertical-align: top;\n",
       "    }\n",
       "\n",
       "    .dataframe thead th {\n",
       "        text-align: right;\n",
       "    }\n",
       "</style>\n",
       "<table border=\"1\" class=\"dataframe\">\n",
       "  <thead>\n",
       "    <tr style=\"text-align: right;\">\n",
       "      <th></th>\n",
       "      <th>cwnd</th>\n",
       "      <th>wlast_max</th>\n",
       "      <th>wtcp</th>\n",
       "      <th>epoch_start</th>\n",
       "      <th>origin_point</th>\n",
       "      <th>dMin</th>\n",
       "      <th>ack_cnt</th>\n",
       "    </tr>\n",
       "  </thead>\n",
       "  <tbody>\n",
       "    <tr>\n",
       "      <th>count</th>\n",
       "      <td>1000.000000</td>\n",
       "      <td>1000.000000</td>\n",
       "      <td>1000.000000</td>\n",
       "      <td>1.000000e+03</td>\n",
       "      <td>1000.000000</td>\n",
       "      <td>1000.000000</td>\n",
       "      <td>1000.0</td>\n",
       "    </tr>\n",
       "    <tr>\n",
       "      <th>mean</th>\n",
       "      <td>37.581345</td>\n",
       "      <td>37.966110</td>\n",
       "      <td>38.184045</td>\n",
       "      <td>1.244469e+09</td>\n",
       "      <td>37.992166</td>\n",
       "      <td>0.005745</td>\n",
       "      <td>0.0</td>\n",
       "    </tr>\n",
       "    <tr>\n",
       "      <th>std</th>\n",
       "      <td>5.687122</td>\n",
       "      <td>5.233382</td>\n",
       "      <td>7.301269</td>\n",
       "      <td>7.783769e+08</td>\n",
       "      <td>7.301063</td>\n",
       "      <td>0.017451</td>\n",
       "      <td>0.0</td>\n",
       "    </tr>\n",
       "    <tr>\n",
       "      <th>min</th>\n",
       "      <td>11.000000</td>\n",
       "      <td>28.196165</td>\n",
       "      <td>0.000000</td>\n",
       "      <td>0.000000e+00</td>\n",
       "      <td>0.000000</td>\n",
       "      <td>0.000441</td>\n",
       "      <td>0.0</td>\n",
       "    </tr>\n",
       "    <tr>\n",
       "      <th>25%</th>\n",
       "      <td>33.720000</td>\n",
       "      <td>33.400000</td>\n",
       "      <td>34.496099</td>\n",
       "      <td>0.000000e+00</td>\n",
       "      <td>34.411340</td>\n",
       "      <td>0.000441</td>\n",
       "      <td>0.0</td>\n",
       "    </tr>\n",
       "    <tr>\n",
       "      <th>50%</th>\n",
       "      <td>38.256640</td>\n",
       "      <td>38.605312</td>\n",
       "      <td>38.821172</td>\n",
       "      <td>1.730833e+09</td>\n",
       "      <td>38.605312</td>\n",
       "      <td>0.000441</td>\n",
       "      <td>0.0</td>\n",
       "    </tr>\n",
       "    <tr>\n",
       "      <th>75%</th>\n",
       "      <td>42.405920</td>\n",
       "      <td>43.405920</td>\n",
       "      <td>43.871487</td>\n",
       "      <td>1.730833e+09</td>\n",
       "      <td>43.724736</td>\n",
       "      <td>0.004376</td>\n",
       "      <td>0.0</td>\n",
       "    </tr>\n",
       "    <tr>\n",
       "      <th>max</th>\n",
       "      <td>46.859065</td>\n",
       "      <td>46.859065</td>\n",
       "      <td>45.225934</td>\n",
       "      <td>1.730833e+09</td>\n",
       "      <td>44.859065</td>\n",
       "      <td>0.181195</td>\n",
       "      <td>0.0</td>\n",
       "    </tr>\n",
       "  </tbody>\n",
       "</table>\n",
       "</div>"
      ],
      "text/plain": [
       "              cwnd    wlast_max         wtcp   epoch_start  origin_point  \\\n",
       "count  1000.000000  1000.000000  1000.000000  1.000000e+03   1000.000000   \n",
       "mean     37.581345    37.966110    38.184045  1.244469e+09     37.992166   \n",
       "std       5.687122     5.233382     7.301269  7.783769e+08      7.301063   \n",
       "min      11.000000    28.196165     0.000000  0.000000e+00      0.000000   \n",
       "25%      33.720000    33.400000    34.496099  0.000000e+00     34.411340   \n",
       "50%      38.256640    38.605312    38.821172  1.730833e+09     38.605312   \n",
       "75%      42.405920    43.405920    43.871487  1.730833e+09     43.724736   \n",
       "max      46.859065    46.859065    45.225934  1.730833e+09     44.859065   \n",
       "\n",
       "              dMin  ack_cnt  \n",
       "count  1000.000000   1000.0  \n",
       "mean      0.005745      0.0  \n",
       "std       0.017451      0.0  \n",
       "min       0.000441      0.0  \n",
       "25%       0.000441      0.0  \n",
       "50%       0.000441      0.0  \n",
       "75%       0.004376      0.0  \n",
       "max       0.181195      0.0  "
      ]
     },
     "execution_count": 40,
     "metadata": {},
     "output_type": "execute_result"
    }
   ],
   "source": [
    "df41.iloc[:, 1:].describe()"
   ]
  },
  {
   "cell_type": "markdown",
   "id": "bc8a1749",
   "metadata": {},
   "source": [
    "### Plotting Cubic TCP parameters over time."
   ]
  },
  {
   "cell_type": "code",
   "execution_count": 44,
   "id": "1a9d23d6",
   "metadata": {},
   "outputs": [],
   "source": [
    "def plot_parameters_vs_rounds(df, parameters):\n",
    "    \"\"\"\n",
    "    it makes one figure and axes with len of parameters.\n",
    "    one by one the plot color changes from green to blue.\n",
    "    and if the given parameter is not valid it pass and checks other parameters.\n",
    "    \n",
    "    args:\n",
    "         -df: dataframe\n",
    "         -parameters: list of tcp parmaeters to plot.\n",
    "    \"\"\"\n",
    "    columns_number = len(parameters)\n",
    "    fig, axs = plt.subplots(columns_number, 1, figsize=(15 , 12))\n",
    "    for i in range(len(parameters)):\n",
    "        parameter = parameters[i]\n",
    "        if parameter not in df:\n",
    "            continue\n",
    "        axs[i].plot(df['round'], df[parameter], label=parameter, color='green' if i % 2 == 0 else 'blue')\n",
    "        axs[i].set_xlabel('Round Number')\n",
    "        axs[i].set_ylabel(parameter)\n",
    "        axs[i].set_title(f'{parameter} Evolution')\n",
    "        axs[i].grid(True)\n",
    "        axs[i].legend()"
   ]
  },
  {
   "cell_type": "code",
   "execution_count": 45,
   "id": "c7f82e60",
   "metadata": {},
   "outputs": [],
   "source": [
    "parameters = ['cwnd', 'wlast_max']"
   ]
  },
  {
   "cell_type": "code",
   "execution_count": 46,
   "id": "ff4c4ca8",
   "metadata": {},
   "outputs": [
    {
     "data": {
      "image/png": "[encoded data removed]",
      "text/plain": [
       "<Figure size 1080x864 with 2 Axes>"
      ]
     },
     "metadata": {
      "needs_background": "light"
     },
     "output_type": "display_data"
    }
   ],
   "source": [
    "plot_parameters_vs_rounds(df11, parameters)"
   ]
  },
  {
   "cell_type": "code",
   "execution_count": 47,
   "id": "86b47fe1",
   "metadata": {},
   "outputs": [
    {
     "data": {
      "image/png": "[encoded data removed]",
      "text/plain": [
       "<Figure size 1080x864 with 2 Axes>"
      ]
     },
     "metadata": {
      "needs_background": "light"
     },
     "output_type": "display_data"
    }
   ],
   "source": [
    "plot_parameters_vs_rounds(df21, parameters)"
   ]
  },
  {
   "cell_type": "code",
   "execution_count": 48,
   "id": "30eca7a7",
   "metadata": {},
   "outputs": [
    {
     "data": {
      "image/png": "[encoded data removed]",
      "text/plain": [
       "<Figure size 1080x864 with 2 Axes>"
      ]
     },
     "metadata": {
      "needs_background": "light"
     },
     "output_type": "display_data"
    }
   ],
   "source": [
    "plot_parameters_vs_rounds(df31, parameters)"
   ]
  },
  {
   "cell_type": "code",
   "execution_count": 49,
   "id": "4feedd18",
   "metadata": {},
   "outputs": [
    {
     "data": {
      "image/png": "[encoded data removed]",
      "text/plain": [
       "<Figure size 1080x864 with 2 Axes>"
      ]
     },
     "metadata": {
      "needs_background": "light"
     },
     "output_type": "display_data"
    }
   ],
   "source": [
    "plot_parameters_vs_rounds(df41, parameters)"
   ]
  }
 ],
 "metadata": {
  "kernelspec": {
   "display_name": "Python 3 (ipykernel)",
   "language": "python",
   "name": "python3"
  },
  "language_info": {
   "codemirror_mode": {
    "name": "ipython",
    "version": 3
   },
   "file_extension": ".py",
   "mimetype": "text/x-python",
   "name": "python",
   "nbconvert_exporter": "python",
   "pygments_lexer": "ipython3",
   "version": "3.9.12"
  }
 },
 "nbformat": 4,
 "nbformat_minor": 5
}
